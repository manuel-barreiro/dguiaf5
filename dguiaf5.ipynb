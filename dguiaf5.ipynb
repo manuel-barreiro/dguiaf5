{
 "cells": [
  {
   "cell_type": "code",
   "execution_count": 1,
   "metadata": {},
   "outputs": [],
   "source": [
    "#Importamos bibliotecas\n",
    "import pandas as pd\n",
    "import numpy as np\n",
    "from matplotlib import pyplot as plot\n",
    "import plotly.express as px\n",
    "import squarify    # pip install squarify (algorithm for treemap)\n",
    "import seaborn as sns"
   ]
  },
  {
   "cell_type": "code",
   "execution_count": 3,
   "metadata": {},
   "outputs": [
    {
     "name": "stderr",
     "output_type": "stream",
     "text": [
      "c:\\Users\\manue\\AppData\\Local\\Programs\\Python\\Python310\\lib\\site-packages\\openpyxl\\styles\\stylesheet.py:226: UserWarning: Workbook contains no default style, apply openpyxl's default\n",
      "  warn(\"Workbook contains no default style, apply openpyxl's default\")\n"
     ]
    },
    {
     "data": {
      "text/html": [
       "<div>\n",
       "<style scoped>\n",
       "    .dataframe tbody tr th:only-of-type {\n",
       "        vertical-align: middle;\n",
       "    }\n",
       "\n",
       "    .dataframe tbody tr th {\n",
       "        vertical-align: top;\n",
       "    }\n",
       "\n",
       "    .dataframe thead th {\n",
       "        text-align: right;\n",
       "    }\n",
       "</style>\n",
       "<table border=\"1\" class=\"dataframe\">\n",
       "  <thead>\n",
       "    <tr style=\"text-align: right;\">\n",
       "      <th></th>\n",
       "      <th>Cta Cte integral</th>\n",
       "      <th>Unnamed: 1</th>\n",
       "      <th>Unnamed: 2</th>\n",
       "      <th>Unnamed: 3</th>\n",
       "      <th>Unnamed: 4</th>\n",
       "      <th>Unnamed: 5</th>\n",
       "      <th>Unnamed: 6</th>\n",
       "      <th>Unnamed: 7</th>\n",
       "      <th>Unnamed: 8</th>\n",
       "      <th>Unnamed: 9</th>\n",
       "      <th>...</th>\n",
       "      <th>Unnamed: 40</th>\n",
       "      <th>Unnamed: 41</th>\n",
       "      <th>Unnamed: 42</th>\n",
       "      <th>Unnamed: 43</th>\n",
       "      <th>Unnamed: 44</th>\n",
       "      <th>Unnamed: 45</th>\n",
       "      <th>Unnamed: 46</th>\n",
       "      <th>Unnamed: 47</th>\n",
       "      <th>Unnamed: 48</th>\n",
       "      <th>Unnamed: 49</th>\n",
       "    </tr>\n",
       "  </thead>\n",
       "  <tbody>\n",
       "    <tr>\n",
       "      <th>0</th>\n",
       "      <td>NaN</td>\n",
       "      <td>NaN</td>\n",
       "      <td>NaN</td>\n",
       "      <td>NaN</td>\n",
       "      <td>NaN</td>\n",
       "      <td>NaN</td>\n",
       "      <td>NaN</td>\n",
       "      <td>NaN</td>\n",
       "      <td>NaN</td>\n",
       "      <td>NaN</td>\n",
       "      <td>...</td>\n",
       "      <td>NaN</td>\n",
       "      <td>NaN</td>\n",
       "      <td>NaN</td>\n",
       "      <td>NaN</td>\n",
       "      <td>NaN</td>\n",
       "      <td>NaN</td>\n",
       "      <td>NaN</td>\n",
       "      <td>NaN</td>\n",
       "      <td>NaN</td>\n",
       "      <td>NaN</td>\n",
       "    </tr>\n",
       "    <tr>\n",
       "      <th>1</th>\n",
       "      <td>Id Juris.</td>\n",
       "      <td>Jurisdicción</td>\n",
       "      <td>Id Prov.</td>\n",
       "      <td>Proveedor</td>\n",
       "      <td>Id OF</td>\n",
       "      <td>Obra Física</td>\n",
       "      <td></td>\n",
       "      <td></td>\n",
       "      <td>Estado Obra</td>\n",
       "      <td>Nro OC</td>\n",
       "      <td>...</td>\n",
       "      <td>Nro OP</td>\n",
       "      <td>Tipo OP</td>\n",
       "      <td>Estado OP</td>\n",
       "      <td>Sector OP</td>\n",
       "      <td>F Autoriz OP</td>\n",
       "      <td>Año Pago</td>\n",
       "      <td>F Pago</td>\n",
       "      <td>Importe Devengado</td>\n",
       "      <td>Importe Deuda</td>\n",
       "      <td>Importe Pago</td>\n",
       "    </tr>\n",
       "    <tr>\n",
       "      <th>2</th>\n",
       "      <td>20</td>\n",
       "      <td>JEFATURA DE GOBIERNO</td>\n",
       "      <td>1</td>\n",
       "      <td>BANCO DE LA CIUDAD DE BUENOS AIRES</td>\n",
       "      <td>-</td>\n",
       "      <td>-</td>\n",
       "      <td>-</td>\n",
       "      <td>-</td>\n",
       "      <td>-</td>\n",
       "      <td>22195</td>\n",
       "      <td>...</td>\n",
       "      <td>82640</td>\n",
       "      <td>C41</td>\n",
       "      <td>C</td>\n",
       "      <td>DGT</td>\n",
       "      <td>2022-04-06 00:00:00</td>\n",
       "      <td>2022</td>\n",
       "      <td>2022-04-22 00:00:00</td>\n",
       "      <td>7169</td>\n",
       "      <td>0</td>\n",
       "      <td>7169</td>\n",
       "    </tr>\n",
       "    <tr>\n",
       "      <th>3</th>\n",
       "      <td>20</td>\n",
       "      <td>JEFATURA DE GOBIERNO</td>\n",
       "      <td>1</td>\n",
       "      <td>BANCO DE LA CIUDAD DE BUENOS AIRES</td>\n",
       "      <td>-</td>\n",
       "      <td>-</td>\n",
       "      <td>-</td>\n",
       "      <td>-</td>\n",
       "      <td>-</td>\n",
       "      <td>22197</td>\n",
       "      <td>...</td>\n",
       "      <td>82632</td>\n",
       "      <td>C41</td>\n",
       "      <td>C</td>\n",
       "      <td>DGT</td>\n",
       "      <td>2022-04-06 00:00:00</td>\n",
       "      <td>2022</td>\n",
       "      <td>2022-04-22 00:00:00</td>\n",
       "      <td>10889</td>\n",
       "      <td>0</td>\n",
       "      <td>10889</td>\n",
       "    </tr>\n",
       "    <tr>\n",
       "      <th>4</th>\n",
       "      <td>20</td>\n",
       "      <td>JEFATURA DE GOBIERNO</td>\n",
       "      <td>1</td>\n",
       "      <td>BANCO DE LA CIUDAD DE BUENOS AIRES</td>\n",
       "      <td>-</td>\n",
       "      <td>-</td>\n",
       "      <td>-</td>\n",
       "      <td>-</td>\n",
       "      <td>-</td>\n",
       "      <td>22199</td>\n",
       "      <td>...</td>\n",
       "      <td>82628</td>\n",
       "      <td>C41</td>\n",
       "      <td>C</td>\n",
       "      <td>DGT</td>\n",
       "      <td>2022-04-06 00:00:00</td>\n",
       "      <td>2022</td>\n",
       "      <td>2022-04-22 00:00:00</td>\n",
       "      <td>8611</td>\n",
       "      <td>0</td>\n",
       "      <td>8611</td>\n",
       "    </tr>\n",
       "    <tr>\n",
       "      <th>...</th>\n",
       "      <td>...</td>\n",
       "      <td>...</td>\n",
       "      <td>...</td>\n",
       "      <td>...</td>\n",
       "      <td>...</td>\n",
       "      <td>...</td>\n",
       "      <td>...</td>\n",
       "      <td>...</td>\n",
       "      <td>...</td>\n",
       "      <td>...</td>\n",
       "      <td>...</td>\n",
       "      <td>...</td>\n",
       "      <td>...</td>\n",
       "      <td>...</td>\n",
       "      <td>...</td>\n",
       "      <td>...</td>\n",
       "      <td>...</td>\n",
       "      <td>...</td>\n",
       "      <td>...</td>\n",
       "      <td>...</td>\n",
       "      <td>...</td>\n",
       "    </tr>\n",
       "    <tr>\n",
       "      <th>6589</th>\n",
       "      <td>70</td>\n",
       "      <td>MIN.DESA.ECON Y PROD</td>\n",
       "      <td>9991</td>\n",
       "      <td>GABA MARTA LILIANA</td>\n",
       "      <td>-</td>\n",
       "      <td>-</td>\n",
       "      <td>-</td>\n",
       "      <td>-</td>\n",
       "      <td>-</td>\n",
       "      <td>18617</td>\n",
       "      <td>...</td>\n",
       "      <td>366199</td>\n",
       "      <td>C41</td>\n",
       "      <td>C</td>\n",
       "      <td>DGT</td>\n",
       "      <td>2022-10-26 00:00:00</td>\n",
       "      <td>2022</td>\n",
       "      <td>2022-11-02 00:00:00</td>\n",
       "      <td>145500</td>\n",
       "      <td>0</td>\n",
       "      <td>145500</td>\n",
       "    </tr>\n",
       "    <tr>\n",
       "      <th>6590</th>\n",
       "      <td>70</td>\n",
       "      <td>MIN.DESA.ECON Y PROD</td>\n",
       "      <td>9991</td>\n",
       "      <td>GABA MARTA LILIANA</td>\n",
       "      <td>-</td>\n",
       "      <td>-</td>\n",
       "      <td>-</td>\n",
       "      <td>-</td>\n",
       "      <td>-</td>\n",
       "      <td>18617</td>\n",
       "      <td>...</td>\n",
       "      <td>463829</td>\n",
       "      <td>C41</td>\n",
       "      <td>C</td>\n",
       "      <td>DGT</td>\n",
       "      <td>2022-12-26 00:00:00</td>\n",
       "      <td>2022</td>\n",
       "      <td>2022-12-27 00:00:00</td>\n",
       "      <td>145500</td>\n",
       "      <td>0</td>\n",
       "      <td>145500</td>\n",
       "    </tr>\n",
       "    <tr>\n",
       "      <th>6591</th>\n",
       "      <td>70</td>\n",
       "      <td>MIN.DESA.ECON Y PROD</td>\n",
       "      <td>9991</td>\n",
       "      <td>GABA MARTA LILIANA</td>\n",
       "      <td>-</td>\n",
       "      <td>-</td>\n",
       "      <td>-</td>\n",
       "      <td>-</td>\n",
       "      <td>-</td>\n",
       "      <td>18617</td>\n",
       "      <td>...</td>\n",
       "      <td>463830</td>\n",
       "      <td>C41</td>\n",
       "      <td>C</td>\n",
       "      <td>DGT</td>\n",
       "      <td>2022-12-26 00:00:00</td>\n",
       "      <td>2022</td>\n",
       "      <td>2022-12-28 00:00:00</td>\n",
       "      <td>170240</td>\n",
       "      <td>0</td>\n",
       "      <td>170240</td>\n",
       "    </tr>\n",
       "    <tr>\n",
       "      <th>6592</th>\n",
       "      <td>70</td>\n",
       "      <td>MIN.DESA.ECON Y PROD</td>\n",
       "      <td>12919</td>\n",
       "      <td>GONZALEZ MARIA SOL</td>\n",
       "      <td>-</td>\n",
       "      <td>-</td>\n",
       "      <td>-</td>\n",
       "      <td>-</td>\n",
       "      <td>-</td>\n",
       "      <td>2677</td>\n",
       "      <td>...</td>\n",
       "      <td>388856</td>\n",
       "      <td>C41</td>\n",
       "      <td>C</td>\n",
       "      <td>DGT</td>\n",
       "      <td>2021-11-26 00:00:00</td>\n",
       "      <td>2021</td>\n",
       "      <td>2021-12-02 00:00:00</td>\n",
       "      <td>36100</td>\n",
       "      <td>0</td>\n",
       "      <td>36100</td>\n",
       "    </tr>\n",
       "    <tr>\n",
       "      <th>6593</th>\n",
       "      <td>70</td>\n",
       "      <td>MIN.DESA.ECON Y PROD</td>\n",
       "      <td>12919</td>\n",
       "      <td>GONZALEZ MARIA SOL</td>\n",
       "      <td>-</td>\n",
       "      <td>-</td>\n",
       "      <td>-</td>\n",
       "      <td>-</td>\n",
       "      <td>-</td>\n",
       "      <td>2677</td>\n",
       "      <td>...</td>\n",
       "      <td>449160</td>\n",
       "      <td>C41</td>\n",
       "      <td>C</td>\n",
       "      <td>DGT</td>\n",
       "      <td>2021-12-21 00:00:00</td>\n",
       "      <td>2021</td>\n",
       "      <td>2021-12-29 00:00:00</td>\n",
       "      <td>36100</td>\n",
       "      <td>0</td>\n",
       "      <td>36100</td>\n",
       "    </tr>\n",
       "  </tbody>\n",
       "</table>\n",
       "<p>6594 rows × 50 columns</p>\n",
       "</div>"
      ],
      "text/plain": [
       "     Cta Cte integral            Unnamed: 1 Unnamed: 2  \\\n",
       "0                 NaN                   NaN        NaN   \n",
       "1           Id Juris.          Jurisdicción   Id Prov.   \n",
       "2                  20  JEFATURA DE GOBIERNO          1   \n",
       "3                  20  JEFATURA DE GOBIERNO          1   \n",
       "4                  20  JEFATURA DE GOBIERNO          1   \n",
       "...               ...                   ...        ...   \n",
       "6589               70  MIN.DESA.ECON Y PROD       9991   \n",
       "6590               70  MIN.DESA.ECON Y PROD       9991   \n",
       "6591               70  MIN.DESA.ECON Y PROD       9991   \n",
       "6592               70  MIN.DESA.ECON Y PROD      12919   \n",
       "6593               70  MIN.DESA.ECON Y PROD      12919   \n",
       "\n",
       "                              Unnamed: 3 Unnamed: 4   Unnamed: 5 Unnamed: 6  \\\n",
       "0                                    NaN        NaN          NaN        NaN   \n",
       "1                              Proveedor      Id OF  Obra Física              \n",
       "2     BANCO DE LA CIUDAD DE BUENOS AIRES          -            -          -   \n",
       "3     BANCO DE LA CIUDAD DE BUENOS AIRES          -            -          -   \n",
       "4     BANCO DE LA CIUDAD DE BUENOS AIRES          -            -          -   \n",
       "...                                  ...        ...          ...        ...   \n",
       "6589                  GABA MARTA LILIANA          -            -          -   \n",
       "6590                  GABA MARTA LILIANA          -            -          -   \n",
       "6591                  GABA MARTA LILIANA          -            -          -   \n",
       "6592                  GONZALEZ MARIA SOL          -            -          -   \n",
       "6593                  GONZALEZ MARIA SOL          -            -          -   \n",
       "\n",
       "     Unnamed: 7   Unnamed: 8 Unnamed: 9  ... Unnamed: 40 Unnamed: 41  \\\n",
       "0           NaN          NaN        NaN  ...         NaN         NaN   \n",
       "1                Estado Obra     Nro OC  ...      Nro OP     Tipo OP   \n",
       "2             -            -      22195  ...       82640         C41   \n",
       "3             -            -      22197  ...       82632         C41   \n",
       "4             -            -      22199  ...       82628         C41   \n",
       "...         ...          ...        ...  ...         ...         ...   \n",
       "6589          -            -      18617  ...      366199         C41   \n",
       "6590          -            -      18617  ...      463829         C41   \n",
       "6591          -            -      18617  ...      463830         C41   \n",
       "6592          -            -       2677  ...      388856         C41   \n",
       "6593          -            -       2677  ...      449160         C41   \n",
       "\n",
       "     Unnamed: 42 Unnamed: 43          Unnamed: 44 Unnamed: 45  \\\n",
       "0            NaN         NaN                  NaN         NaN   \n",
       "1      Estado OP   Sector OP         F Autoriz OP    Año Pago   \n",
       "2              C         DGT  2022-04-06 00:00:00        2022   \n",
       "3              C         DGT  2022-04-06 00:00:00        2022   \n",
       "4              C         DGT  2022-04-06 00:00:00        2022   \n",
       "...          ...         ...                  ...         ...   \n",
       "6589           C         DGT  2022-10-26 00:00:00        2022   \n",
       "6590           C         DGT  2022-12-26 00:00:00        2022   \n",
       "6591           C         DGT  2022-12-26 00:00:00        2022   \n",
       "6592           C         DGT  2021-11-26 00:00:00        2021   \n",
       "6593           C         DGT  2021-12-21 00:00:00        2021   \n",
       "\n",
       "              Unnamed: 46        Unnamed: 47    Unnamed: 48   Unnamed: 49  \n",
       "0                     NaN                NaN            NaN           NaN  \n",
       "1                  F Pago  Importe Devengado  Importe Deuda  Importe Pago  \n",
       "2     2022-04-22 00:00:00               7169              0          7169  \n",
       "3     2022-04-22 00:00:00              10889              0         10889  \n",
       "4     2022-04-22 00:00:00               8611              0          8611  \n",
       "...                   ...                ...            ...           ...  \n",
       "6589  2022-11-02 00:00:00             145500              0        145500  \n",
       "6590  2022-12-27 00:00:00             145500              0        145500  \n",
       "6591  2022-12-28 00:00:00             170240              0        170240  \n",
       "6592  2021-12-02 00:00:00              36100              0         36100  \n",
       "6593  2021-12-29 00:00:00              36100              0         36100  \n",
       "\n",
       "[6594 rows x 50 columns]"
      ]
     },
     "execution_count": 3,
     "metadata": {},
     "output_type": "execute_result"
    }
   ],
   "source": [
    "data = pd.read_excel('./dguiaf5.xlsx')\n",
    "data"
   ]
  },
  {
   "cell_type": "code",
   "execution_count": 4,
   "metadata": {},
   "outputs": [
    {
     "data": {
      "text/html": [
       "<div>\n",
       "<style scoped>\n",
       "    .dataframe tbody tr th:only-of-type {\n",
       "        vertical-align: middle;\n",
       "    }\n",
       "\n",
       "    .dataframe tbody tr th {\n",
       "        vertical-align: top;\n",
       "    }\n",
       "\n",
       "    .dataframe thead th {\n",
       "        text-align: right;\n",
       "    }\n",
       "</style>\n",
       "<table border=\"1\" class=\"dataframe\">\n",
       "  <thead>\n",
       "    <tr style=\"text-align: right;\">\n",
       "      <th></th>\n",
       "      <th>Id Juris.</th>\n",
       "      <th>Jurisdicción</th>\n",
       "      <th>Id Prov.</th>\n",
       "      <th>Proveedor</th>\n",
       "      <th>Id OF</th>\n",
       "      <th>Obra Física</th>\n",
       "      <th></th>\n",
       "      <th></th>\n",
       "      <th>Estado Obra</th>\n",
       "      <th>Nro OC</th>\n",
       "      <th>...</th>\n",
       "      <th>Nro OP</th>\n",
       "      <th>Tipo OP</th>\n",
       "      <th>Estado OP</th>\n",
       "      <th>Sector OP</th>\n",
       "      <th>F Autoriz OP</th>\n",
       "      <th>Año Pago</th>\n",
       "      <th>F Pago</th>\n",
       "      <th>Importe Devengado</th>\n",
       "      <th>Importe Deuda</th>\n",
       "      <th>Importe Pago</th>\n",
       "    </tr>\n",
       "  </thead>\n",
       "  <tbody>\n",
       "    <tr>\n",
       "      <th>0</th>\n",
       "      <td>20</td>\n",
       "      <td>JEFATURA DE GOBIERNO</td>\n",
       "      <td>1</td>\n",
       "      <td>BANCO DE LA CIUDAD DE BUENOS AIRES</td>\n",
       "      <td>-</td>\n",
       "      <td>-</td>\n",
       "      <td>-</td>\n",
       "      <td>-</td>\n",
       "      <td>-</td>\n",
       "      <td>22195</td>\n",
       "      <td>...</td>\n",
       "      <td>82640</td>\n",
       "      <td>C41</td>\n",
       "      <td>C</td>\n",
       "      <td>DGT</td>\n",
       "      <td>2022-04-06 00:00:00</td>\n",
       "      <td>2022</td>\n",
       "      <td>2022-04-22 00:00:00</td>\n",
       "      <td>7169</td>\n",
       "      <td>0</td>\n",
       "      <td>7169</td>\n",
       "    </tr>\n",
       "    <tr>\n",
       "      <th>1</th>\n",
       "      <td>20</td>\n",
       "      <td>JEFATURA DE GOBIERNO</td>\n",
       "      <td>1</td>\n",
       "      <td>BANCO DE LA CIUDAD DE BUENOS AIRES</td>\n",
       "      <td>-</td>\n",
       "      <td>-</td>\n",
       "      <td>-</td>\n",
       "      <td>-</td>\n",
       "      <td>-</td>\n",
       "      <td>22197</td>\n",
       "      <td>...</td>\n",
       "      <td>82632</td>\n",
       "      <td>C41</td>\n",
       "      <td>C</td>\n",
       "      <td>DGT</td>\n",
       "      <td>2022-04-06 00:00:00</td>\n",
       "      <td>2022</td>\n",
       "      <td>2022-04-22 00:00:00</td>\n",
       "      <td>10889</td>\n",
       "      <td>0</td>\n",
       "      <td>10889</td>\n",
       "    </tr>\n",
       "    <tr>\n",
       "      <th>2</th>\n",
       "      <td>20</td>\n",
       "      <td>JEFATURA DE GOBIERNO</td>\n",
       "      <td>1</td>\n",
       "      <td>BANCO DE LA CIUDAD DE BUENOS AIRES</td>\n",
       "      <td>-</td>\n",
       "      <td>-</td>\n",
       "      <td>-</td>\n",
       "      <td>-</td>\n",
       "      <td>-</td>\n",
       "      <td>22199</td>\n",
       "      <td>...</td>\n",
       "      <td>82628</td>\n",
       "      <td>C41</td>\n",
       "      <td>C</td>\n",
       "      <td>DGT</td>\n",
       "      <td>2022-04-06 00:00:00</td>\n",
       "      <td>2022</td>\n",
       "      <td>2022-04-22 00:00:00</td>\n",
       "      <td>8611</td>\n",
       "      <td>0</td>\n",
       "      <td>8611</td>\n",
       "    </tr>\n",
       "    <tr>\n",
       "      <th>3</th>\n",
       "      <td>20</td>\n",
       "      <td>JEFATURA DE GOBIERNO</td>\n",
       "      <td>1</td>\n",
       "      <td>BANCO DE LA CIUDAD DE BUENOS AIRES</td>\n",
       "      <td>-</td>\n",
       "      <td>-</td>\n",
       "      <td>-</td>\n",
       "      <td>-</td>\n",
       "      <td>-</td>\n",
       "      <td>24644</td>\n",
       "      <td>...</td>\n",
       "      <td>90869</td>\n",
       "      <td>C41</td>\n",
       "      <td>C</td>\n",
       "      <td>DGT</td>\n",
       "      <td>2023-03-30 00:00:00</td>\n",
       "      <td>2023</td>\n",
       "      <td>2023-04-17 00:00:00</td>\n",
       "      <td>15147</td>\n",
       "      <td>0</td>\n",
       "      <td>15147</td>\n",
       "    </tr>\n",
       "    <tr>\n",
       "      <th>4</th>\n",
       "      <td>20</td>\n",
       "      <td>JEFATURA DE GOBIERNO</td>\n",
       "      <td>1</td>\n",
       "      <td>BANCO DE LA CIUDAD DE BUENOS AIRES</td>\n",
       "      <td>-</td>\n",
       "      <td>-</td>\n",
       "      <td>-</td>\n",
       "      <td>-</td>\n",
       "      <td>-</td>\n",
       "      <td>24681</td>\n",
       "      <td>...</td>\n",
       "      <td>90874</td>\n",
       "      <td>C41</td>\n",
       "      <td>C</td>\n",
       "      <td>DGT</td>\n",
       "      <td>2023-03-30 00:00:00</td>\n",
       "      <td>2023</td>\n",
       "      <td>2023-04-17 00:00:00</td>\n",
       "      <td>19047</td>\n",
       "      <td>0</td>\n",
       "      <td>19047</td>\n",
       "    </tr>\n",
       "    <tr>\n",
       "      <th>...</th>\n",
       "      <td>...</td>\n",
       "      <td>...</td>\n",
       "      <td>...</td>\n",
       "      <td>...</td>\n",
       "      <td>...</td>\n",
       "      <td>...</td>\n",
       "      <td>...</td>\n",
       "      <td>...</td>\n",
       "      <td>...</td>\n",
       "      <td>...</td>\n",
       "      <td>...</td>\n",
       "      <td>...</td>\n",
       "      <td>...</td>\n",
       "      <td>...</td>\n",
       "      <td>...</td>\n",
       "      <td>...</td>\n",
       "      <td>...</td>\n",
       "      <td>...</td>\n",
       "      <td>...</td>\n",
       "      <td>...</td>\n",
       "      <td>...</td>\n",
       "    </tr>\n",
       "    <tr>\n",
       "      <th>6587</th>\n",
       "      <td>70</td>\n",
       "      <td>MIN.DESA.ECON Y PROD</td>\n",
       "      <td>9991</td>\n",
       "      <td>GABA MARTA LILIANA</td>\n",
       "      <td>-</td>\n",
       "      <td>-</td>\n",
       "      <td>-</td>\n",
       "      <td>-</td>\n",
       "      <td>-</td>\n",
       "      <td>18617</td>\n",
       "      <td>...</td>\n",
       "      <td>366199</td>\n",
       "      <td>C41</td>\n",
       "      <td>C</td>\n",
       "      <td>DGT</td>\n",
       "      <td>2022-10-26 00:00:00</td>\n",
       "      <td>2022</td>\n",
       "      <td>2022-11-02 00:00:00</td>\n",
       "      <td>145500</td>\n",
       "      <td>0</td>\n",
       "      <td>145500</td>\n",
       "    </tr>\n",
       "    <tr>\n",
       "      <th>6588</th>\n",
       "      <td>70</td>\n",
       "      <td>MIN.DESA.ECON Y PROD</td>\n",
       "      <td>9991</td>\n",
       "      <td>GABA MARTA LILIANA</td>\n",
       "      <td>-</td>\n",
       "      <td>-</td>\n",
       "      <td>-</td>\n",
       "      <td>-</td>\n",
       "      <td>-</td>\n",
       "      <td>18617</td>\n",
       "      <td>...</td>\n",
       "      <td>463829</td>\n",
       "      <td>C41</td>\n",
       "      <td>C</td>\n",
       "      <td>DGT</td>\n",
       "      <td>2022-12-26 00:00:00</td>\n",
       "      <td>2022</td>\n",
       "      <td>2022-12-27 00:00:00</td>\n",
       "      <td>145500</td>\n",
       "      <td>0</td>\n",
       "      <td>145500</td>\n",
       "    </tr>\n",
       "    <tr>\n",
       "      <th>6589</th>\n",
       "      <td>70</td>\n",
       "      <td>MIN.DESA.ECON Y PROD</td>\n",
       "      <td>9991</td>\n",
       "      <td>GABA MARTA LILIANA</td>\n",
       "      <td>-</td>\n",
       "      <td>-</td>\n",
       "      <td>-</td>\n",
       "      <td>-</td>\n",
       "      <td>-</td>\n",
       "      <td>18617</td>\n",
       "      <td>...</td>\n",
       "      <td>463830</td>\n",
       "      <td>C41</td>\n",
       "      <td>C</td>\n",
       "      <td>DGT</td>\n",
       "      <td>2022-12-26 00:00:00</td>\n",
       "      <td>2022</td>\n",
       "      <td>2022-12-28 00:00:00</td>\n",
       "      <td>170240</td>\n",
       "      <td>0</td>\n",
       "      <td>170240</td>\n",
       "    </tr>\n",
       "    <tr>\n",
       "      <th>6590</th>\n",
       "      <td>70</td>\n",
       "      <td>MIN.DESA.ECON Y PROD</td>\n",
       "      <td>12919</td>\n",
       "      <td>GONZALEZ MARIA SOL</td>\n",
       "      <td>-</td>\n",
       "      <td>-</td>\n",
       "      <td>-</td>\n",
       "      <td>-</td>\n",
       "      <td>-</td>\n",
       "      <td>2677</td>\n",
       "      <td>...</td>\n",
       "      <td>388856</td>\n",
       "      <td>C41</td>\n",
       "      <td>C</td>\n",
       "      <td>DGT</td>\n",
       "      <td>2021-11-26 00:00:00</td>\n",
       "      <td>2021</td>\n",
       "      <td>2021-12-02 00:00:00</td>\n",
       "      <td>36100</td>\n",
       "      <td>0</td>\n",
       "      <td>36100</td>\n",
       "    </tr>\n",
       "    <tr>\n",
       "      <th>6591</th>\n",
       "      <td>70</td>\n",
       "      <td>MIN.DESA.ECON Y PROD</td>\n",
       "      <td>12919</td>\n",
       "      <td>GONZALEZ MARIA SOL</td>\n",
       "      <td>-</td>\n",
       "      <td>-</td>\n",
       "      <td>-</td>\n",
       "      <td>-</td>\n",
       "      <td>-</td>\n",
       "      <td>2677</td>\n",
       "      <td>...</td>\n",
       "      <td>449160</td>\n",
       "      <td>C41</td>\n",
       "      <td>C</td>\n",
       "      <td>DGT</td>\n",
       "      <td>2021-12-21 00:00:00</td>\n",
       "      <td>2021</td>\n",
       "      <td>2021-12-29 00:00:00</td>\n",
       "      <td>36100</td>\n",
       "      <td>0</td>\n",
       "      <td>36100</td>\n",
       "    </tr>\n",
       "  </tbody>\n",
       "</table>\n",
       "<p>6592 rows × 50 columns</p>\n",
       "</div>"
      ],
      "text/plain": [
       "0    Id Juris.          Jurisdicción Id Prov.  \\\n",
       "0           20  JEFATURA DE GOBIERNO        1   \n",
       "1           20  JEFATURA DE GOBIERNO        1   \n",
       "2           20  JEFATURA DE GOBIERNO        1   \n",
       "3           20  JEFATURA DE GOBIERNO        1   \n",
       "4           20  JEFATURA DE GOBIERNO        1   \n",
       "...        ...                   ...      ...   \n",
       "6587        70  MIN.DESA.ECON Y PROD     9991   \n",
       "6588        70  MIN.DESA.ECON Y PROD     9991   \n",
       "6589        70  MIN.DESA.ECON Y PROD     9991   \n",
       "6590        70  MIN.DESA.ECON Y PROD    12919   \n",
       "6591        70  MIN.DESA.ECON Y PROD    12919   \n",
       "\n",
       "0                              Proveedor Id OF Obra Física       Estado Obra  \\\n",
       "0     BANCO DE LA CIUDAD DE BUENOS AIRES     -           -  -  -           -   \n",
       "1     BANCO DE LA CIUDAD DE BUENOS AIRES     -           -  -  -           -   \n",
       "2     BANCO DE LA CIUDAD DE BUENOS AIRES     -           -  -  -           -   \n",
       "3     BANCO DE LA CIUDAD DE BUENOS AIRES     -           -  -  -           -   \n",
       "4     BANCO DE LA CIUDAD DE BUENOS AIRES     -           -  -  -           -   \n",
       "...                                  ...   ...         ... .. ..         ...   \n",
       "6587                  GABA MARTA LILIANA     -           -  -  -           -   \n",
       "6588                  GABA MARTA LILIANA     -           -  -  -           -   \n",
       "6589                  GABA MARTA LILIANA     -           -  -  -           -   \n",
       "6590                  GONZALEZ MARIA SOL     -           -  -  -           -   \n",
       "6591                  GONZALEZ MARIA SOL     -           -  -  -           -   \n",
       "\n",
       "0    Nro OC  ...  Nro OP Tipo OP Estado OP Sector OP         F Autoriz OP  \\\n",
       "0     22195  ...   82640     C41         C       DGT  2022-04-06 00:00:00   \n",
       "1     22197  ...   82632     C41         C       DGT  2022-04-06 00:00:00   \n",
       "2     22199  ...   82628     C41         C       DGT  2022-04-06 00:00:00   \n",
       "3     24644  ...   90869     C41         C       DGT  2023-03-30 00:00:00   \n",
       "4     24681  ...   90874     C41         C       DGT  2023-03-30 00:00:00   \n",
       "...     ...  ...     ...     ...       ...       ...                  ...   \n",
       "6587  18617  ...  366199     C41         C       DGT  2022-10-26 00:00:00   \n",
       "6588  18617  ...  463829     C41         C       DGT  2022-12-26 00:00:00   \n",
       "6589  18617  ...  463830     C41         C       DGT  2022-12-26 00:00:00   \n",
       "6590   2677  ...  388856     C41         C       DGT  2021-11-26 00:00:00   \n",
       "6591   2677  ...  449160     C41         C       DGT  2021-12-21 00:00:00   \n",
       "\n",
       "0    Año Pago               F Pago Importe Devengado Importe Deuda  \\\n",
       "0        2022  2022-04-22 00:00:00              7169             0   \n",
       "1        2022  2022-04-22 00:00:00             10889             0   \n",
       "2        2022  2022-04-22 00:00:00              8611             0   \n",
       "3        2023  2023-04-17 00:00:00             15147             0   \n",
       "4        2023  2023-04-17 00:00:00             19047             0   \n",
       "...       ...                  ...               ...           ...   \n",
       "6587     2022  2022-11-02 00:00:00            145500             0   \n",
       "6588     2022  2022-12-27 00:00:00            145500             0   \n",
       "6589     2022  2022-12-28 00:00:00            170240             0   \n",
       "6590     2021  2021-12-02 00:00:00             36100             0   \n",
       "6591     2021  2021-12-29 00:00:00             36100             0   \n",
       "\n",
       "0    Importe Pago  \n",
       "0            7169  \n",
       "1           10889  \n",
       "2            8611  \n",
       "3           15147  \n",
       "4           19047  \n",
       "...           ...  \n",
       "6587       145500  \n",
       "6588       145500  \n",
       "6589       170240  \n",
       "6590        36100  \n",
       "6591        36100  \n",
       "\n",
       "[6592 rows x 50 columns]"
      ]
     },
     "execution_count": 4,
     "metadata": {},
     "output_type": "execute_result"
    }
   ],
   "source": [
    "df = data\n",
    "\n",
    "df = df.drop([0]).reset_index(drop=True)\n",
    "\n",
    "df.columns = df.iloc[0]\n",
    "\n",
    "df = df.drop([0]).reset_index(drop=True)\n",
    "\n",
    "df"
   ]
  },
  {
   "cell_type": "code",
   "execution_count": 5,
   "metadata": {},
   "outputs": [
    {
     "name": "stdout",
     "output_type": "stream",
     "text": [
      "<class 'pandas.core.frame.DataFrame'>\n",
      "RangeIndex: 6592 entries, 0 to 6591\n",
      "Data columns (total 50 columns):\n",
      " #   Column                        Non-Null Count  Dtype \n",
      "---  ------                        --------------  ----- \n",
      " 0   Id Juris.                     6592 non-null   object\n",
      " 1   Jurisdicción                  6592 non-null   object\n",
      " 2   Id Prov.                      6592 non-null   object\n",
      " 3   Proveedor                     6592 non-null   object\n",
      " 4   Id OF                         6592 non-null   object\n",
      " 5   Obra Física                   6592 non-null   object\n",
      " 6                                 6592 non-null   object\n",
      " 7                                 6592 non-null   object\n",
      " 8   Estado Obra                   6592 non-null   object\n",
      " 9   Nro OC                        6592 non-null   object\n",
      " 10  Ejercicio OC                  6592 non-null   object\n",
      " 11  Tipo OC                       6592 non-null   object\n",
      " 12  Adicional N°                  6592 non-null   object\n",
      " 13  Estado OC                     6592 non-null   object\n",
      " 14  Fecha Estado OC               6592 non-null   object\n",
      " 15  Fecha Inicio OC               6592 non-null   object\n",
      " 16  Id PC                         6592 non-null   object\n",
      " 17  Parámetro de la Contratación  6592 non-null   object\n",
      " 18  Ej de Devengado               6592 non-null   object\n",
      " 19  Tipo de Devengado             6592 non-null   object\n",
      " 20  N° Devengado                  6592 non-null   object\n",
      " 21  Estado Devengado              6592 non-null   object\n",
      " 22  F Ingreso Devengado           6592 non-null   object\n",
      " 23  F Estado Devengado            6592 non-null   object\n",
      " 24  F Firma Dev                   6592 non-null   object\n",
      " 25  Estado Firma PRD              6592 non-null   object\n",
      " 26  Fecha Desde                   6592 non-null   object\n",
      " 27  Fecha Hasta                   6592 non-null   object\n",
      " 28  UE Devengado                  6592 non-null   object\n",
      " 29  Descripción UE                6592 non-null   object\n",
      " 30  Inciso                        6592 non-null   object\n",
      " 31  Principal                     6592 non-null   object\n",
      " 32  Parcial                       6592 non-null   object\n",
      " 33  Subparcial                    6592 non-null   object\n",
      " 34  Ejercicio Fc                  6592 non-null   object\n",
      " 35  Tipo Fc                       6592 non-null   object\n",
      " 36  Nro Fc                        6592 non-null   object\n",
      " 37  Estado Fc                     6592 non-null   object\n",
      " 38  F Autoriz Fc                  6592 non-null   object\n",
      " 39  Ejercicio OP                  6592 non-null   object\n",
      " 40  Nro OP                        6592 non-null   object\n",
      " 41  Tipo OP                       6592 non-null   object\n",
      " 42  Estado OP                     6592 non-null   object\n",
      " 43  Sector OP                     6592 non-null   object\n",
      " 44  F Autoriz OP                  6592 non-null   object\n",
      " 45  Año Pago                      6592 non-null   object\n",
      " 46  F Pago                        6592 non-null   object\n",
      " 47  Importe Devengado             6592 non-null   object\n",
      " 48  Importe Deuda                 6592 non-null   object\n",
      " 49  Importe Pago                  6592 non-null   object\n",
      "dtypes: object(50)\n",
      "memory usage: 2.5+ MB\n"
     ]
    }
   ],
   "source": [
    "df.info()"
   ]
  },
  {
   "cell_type": "code",
   "execution_count": 6,
   "metadata": {},
   "outputs": [
    {
     "data": {
      "text/html": [
       "<div>\n",
       "<style scoped>\n",
       "    .dataframe tbody tr th:only-of-type {\n",
       "        vertical-align: middle;\n",
       "    }\n",
       "\n",
       "    .dataframe tbody tr th {\n",
       "        vertical-align: top;\n",
       "    }\n",
       "\n",
       "    .dataframe thead th {\n",
       "        text-align: right;\n",
       "    }\n",
       "</style>\n",
       "<table border=\"1\" class=\"dataframe\">\n",
       "  <thead>\n",
       "    <tr style=\"text-align: right;\">\n",
       "      <th></th>\n",
       "      <th>Id Juris.</th>\n",
       "      <th>Jurisdicción</th>\n",
       "      <th>Id Prov.</th>\n",
       "      <th>Proveedor</th>\n",
       "      <th>Id OF</th>\n",
       "      <th>Obra Física</th>\n",
       "      <th></th>\n",
       "      <th></th>\n",
       "      <th>Estado Obra</th>\n",
       "      <th>Nro OC</th>\n",
       "      <th>...</th>\n",
       "      <th>Nro OP</th>\n",
       "      <th>Tipo OP</th>\n",
       "      <th>Estado OP</th>\n",
       "      <th>Sector OP</th>\n",
       "      <th>F Autoriz OP</th>\n",
       "      <th>Año Pago</th>\n",
       "      <th>F Pago</th>\n",
       "      <th>Importe Devengado</th>\n",
       "      <th>Importe Deuda</th>\n",
       "      <th>Importe Pago</th>\n",
       "    </tr>\n",
       "  </thead>\n",
       "  <tbody>\n",
       "    <tr>\n",
       "      <th>count</th>\n",
       "      <td>6592</td>\n",
       "      <td>6592</td>\n",
       "      <td>6592</td>\n",
       "      <td>6592</td>\n",
       "      <td>6592</td>\n",
       "      <td>6592</td>\n",
       "      <td>6592</td>\n",
       "      <td>6592</td>\n",
       "      <td>6592</td>\n",
       "      <td>6592</td>\n",
       "      <td>...</td>\n",
       "      <td>6592</td>\n",
       "      <td>6592</td>\n",
       "      <td>6592</td>\n",
       "      <td>6592</td>\n",
       "      <td>6592</td>\n",
       "      <td>6592</td>\n",
       "      <td>6592</td>\n",
       "      <td>6592</td>\n",
       "      <td>6592</td>\n",
       "      <td>6592</td>\n",
       "    </tr>\n",
       "    <tr>\n",
       "      <th>unique</th>\n",
       "      <td>12</td>\n",
       "      <td>12</td>\n",
       "      <td>486</td>\n",
       "      <td>486</td>\n",
       "      <td>1</td>\n",
       "      <td>1</td>\n",
       "      <td>1</td>\n",
       "      <td>1</td>\n",
       "      <td>1</td>\n",
       "      <td>1635</td>\n",
       "      <td>...</td>\n",
       "      <td>6562</td>\n",
       "      <td>1</td>\n",
       "      <td>1</td>\n",
       "      <td>1</td>\n",
       "      <td>526</td>\n",
       "      <td>3</td>\n",
       "      <td>462</td>\n",
       "      <td>2119</td>\n",
       "      <td>1</td>\n",
       "      <td>2108</td>\n",
       "    </tr>\n",
       "    <tr>\n",
       "      <th>top</th>\n",
       "      <td>55</td>\n",
       "      <td>MINISTERIO DE EDUCACIÓN</td>\n",
       "      <td>1</td>\n",
       "      <td>BANCO DE LA CIUDAD DE BUENOS AIRES</td>\n",
       "      <td>-</td>\n",
       "      <td>-</td>\n",
       "      <td>-</td>\n",
       "      <td>-</td>\n",
       "      <td>-</td>\n",
       "      <td>-</td>\n",
       "      <td>...</td>\n",
       "      <td>470239</td>\n",
       "      <td>C41</td>\n",
       "      <td>C</td>\n",
       "      <td>DGT</td>\n",
       "      <td>2022-12-06 00:00:00</td>\n",
       "      <td>2022</td>\n",
       "      <td>2022-09-08 00:00:00</td>\n",
       "      <td>100000</td>\n",
       "      <td>0</td>\n",
       "      <td>100000</td>\n",
       "    </tr>\n",
       "    <tr>\n",
       "      <th>freq</th>\n",
       "      <td>2509</td>\n",
       "      <td>2509</td>\n",
       "      <td>264</td>\n",
       "      <td>264</td>\n",
       "      <td>6592</td>\n",
       "      <td>6592</td>\n",
       "      <td>6592</td>\n",
       "      <td>6592</td>\n",
       "      <td>6592</td>\n",
       "      <td>364</td>\n",
       "      <td>...</td>\n",
       "      <td>2</td>\n",
       "      <td>6592</td>\n",
       "      <td>6592</td>\n",
       "      <td>6592</td>\n",
       "      <td>42</td>\n",
       "      <td>3416</td>\n",
       "      <td>76</td>\n",
       "      <td>75</td>\n",
       "      <td>6592</td>\n",
       "      <td>75</td>\n",
       "    </tr>\n",
       "  </tbody>\n",
       "</table>\n",
       "<p>4 rows × 50 columns</p>\n",
       "</div>"
      ],
      "text/plain": [
       "0       Id Juris.             Jurisdicción  Id Prov.  \\\n",
       "count        6592                     6592      6592   \n",
       "unique         12                       12       486   \n",
       "top            55  MINISTERIO DE EDUCACIÓN         1   \n",
       "freq         2509                     2509       264   \n",
       "\n",
       "0                                Proveedor Id OF Obra Física              \\\n",
       "count                                 6592  6592        6592  6592  6592   \n",
       "unique                                 486     1           1     1     1   \n",
       "top     BANCO DE LA CIUDAD DE BUENOS AIRES     -           -     -     -   \n",
       "freq                                   264  6592        6592  6592  6592   \n",
       "\n",
       "0      Estado Obra Nro OC  ...  Nro OP Tipo OP Estado OP Sector OP  \\\n",
       "count         6592   6592  ...    6592    6592      6592      6592   \n",
       "unique           1   1635  ...    6562       1         1         1   \n",
       "top              -      -  ...  470239     C41         C       DGT   \n",
       "freq          6592    364  ...       2    6592      6592      6592   \n",
       "\n",
       "0              F Autoriz OP Año Pago               F Pago Importe Devengado  \\\n",
       "count                  6592     6592                 6592              6592   \n",
       "unique                  526        3                  462              2119   \n",
       "top     2022-12-06 00:00:00     2022  2022-09-08 00:00:00            100000   \n",
       "freq                     42     3416                   76                75   \n",
       "\n",
       "0       Importe Deuda Importe Pago  \n",
       "count            6592         6592  \n",
       "unique              1         2108  \n",
       "top                 0       100000  \n",
       "freq             6592           75  \n",
       "\n",
       "[4 rows x 50 columns]"
      ]
     },
     "execution_count": 6,
     "metadata": {},
     "output_type": "execute_result"
    }
   ],
   "source": [
    "df.describe()"
   ]
  },
  {
   "cell_type": "markdown",
   "metadata": {},
   "source": [
    "## Análisis por Cantidad de Ordenes"
   ]
  },
  {
   "cell_type": "markdown",
   "metadata": {},
   "source": [
    "### 1. Cantidad de Ordenes por Jurisdicción"
   ]
  },
  {
   "cell_type": "code",
   "execution_count": 7,
   "metadata": {},
   "outputs": [
    {
     "data": {
      "text/html": [
       "<div>\n",
       "<style scoped>\n",
       "    .dataframe tbody tr th:only-of-type {\n",
       "        vertical-align: middle;\n",
       "    }\n",
       "\n",
       "    .dataframe tbody tr th {\n",
       "        vertical-align: top;\n",
       "    }\n",
       "\n",
       "    .dataframe thead th {\n",
       "        text-align: right;\n",
       "    }\n",
       "</style>\n",
       "<table border=\"1\" class=\"dataframe\">\n",
       "  <thead>\n",
       "    <tr style=\"text-align: right;\">\n",
       "      <th></th>\n",
       "      <th>Jurisdicción</th>\n",
       "      <th>Cantidad</th>\n",
       "    </tr>\n",
       "  </thead>\n",
       "  <tbody>\n",
       "    <tr>\n",
       "      <th>0</th>\n",
       "      <td>MINISTERIO DE EDUCACIÓN</td>\n",
       "      <td>2509</td>\n",
       "    </tr>\n",
       "    <tr>\n",
       "      <th>1</th>\n",
       "      <td>MINISTERIO DE CULTURA</td>\n",
       "      <td>2061</td>\n",
       "    </tr>\n",
       "    <tr>\n",
       "      <th>2</th>\n",
       "      <td>JEFATURA DE GOBIERNO</td>\n",
       "      <td>431</td>\n",
       "    </tr>\n",
       "    <tr>\n",
       "      <th>3</th>\n",
       "      <td>MINISTERIO DE SALUD</td>\n",
       "      <td>385</td>\n",
       "    </tr>\n",
       "    <tr>\n",
       "      <th>4</th>\n",
       "      <td>JEFATURA DE GABINETE DE MINISTROS</td>\n",
       "      <td>372</td>\n",
       "    </tr>\n",
       "    <tr>\n",
       "      <th>5</th>\n",
       "      <td>MINISTERIO DE DESARROLLO HUMANO Y HÁBITAT</td>\n",
       "      <td>258</td>\n",
       "    </tr>\n",
       "    <tr>\n",
       "      <th>6</th>\n",
       "      <td>MINISTERIO DE HACIENDA y FINANZAS</td>\n",
       "      <td>249</td>\n",
       "    </tr>\n",
       "    <tr>\n",
       "      <th>7</th>\n",
       "      <td>MINISTERIO DE ESPACIO PUBLICO E HIGIENE URBANA</td>\n",
       "      <td>109</td>\n",
       "    </tr>\n",
       "    <tr>\n",
       "      <th>8</th>\n",
       "      <td>MINISTERIO DE JUSTICIA Y SEGURIDAD</td>\n",
       "      <td>82</td>\n",
       "    </tr>\n",
       "    <tr>\n",
       "      <th>9</th>\n",
       "      <td>MINISTERIO DE GOBIERNO</td>\n",
       "      <td>68</td>\n",
       "    </tr>\n",
       "    <tr>\n",
       "      <th>10</th>\n",
       "      <td>MIN.DESA.ECON Y PROD</td>\n",
       "      <td>67</td>\n",
       "    </tr>\n",
       "    <tr>\n",
       "      <th>11</th>\n",
       "      <td>MINISTERIO DE DESARROLLO URBANO Y TRANSPORTE</td>\n",
       "      <td>1</td>\n",
       "    </tr>\n",
       "  </tbody>\n",
       "</table>\n",
       "</div>"
      ],
      "text/plain": [
       "                                      Jurisdicción  Cantidad\n",
       "0                          MINISTERIO DE EDUCACIÓN      2509\n",
       "1                            MINISTERIO DE CULTURA      2061\n",
       "2                             JEFATURA DE GOBIERNO       431\n",
       "3                              MINISTERIO DE SALUD       385\n",
       "4                JEFATURA DE GABINETE DE MINISTROS       372\n",
       "5        MINISTERIO DE DESARROLLO HUMANO Y HÁBITAT       258\n",
       "6                MINISTERIO DE HACIENDA y FINANZAS       249\n",
       "7   MINISTERIO DE ESPACIO PUBLICO E HIGIENE URBANA       109\n",
       "8               MINISTERIO DE JUSTICIA Y SEGURIDAD        82\n",
       "9                           MINISTERIO DE GOBIERNO        68\n",
       "10                            MIN.DESA.ECON Y PROD        67\n",
       "11    MINISTERIO DE DESARROLLO URBANO Y TRANSPORTE         1"
      ]
     },
     "execution_count": 7,
     "metadata": {},
     "output_type": "execute_result"
    }
   ],
   "source": [
    "jurisdiccionPorCantidad = df['Jurisdicción'].value_counts().to_frame().reset_index(inplace=False)\n",
    "jurisdiccionPorCantidad.columns = ['Jurisdicción','Cantidad']\t\n",
    "jurisdiccionPorCantidad"
   ]
  },
  {
   "cell_type": "code",
   "execution_count": 9,
   "metadata": {},
   "outputs": [
    {
     "data": {
      "application/vnd.plotly.v1+json": {
       "config": {
        "plotlyServerURL": "https://plot.ly"
       },
       "data": [
        {
         "branchvalues": "total",
         "customdata": [
          [
           "MINISTERIO DE EDUCACIÓN",
           2509,
           "MINISTERIO DE EDUCACIÓN"
          ],
          [
           "MINISTERIO DE CULTURA",
           2061,
           "MINISTERIO DE CULTURA"
          ],
          [
           "JEFATURA DE GOBIERNO",
           431,
           "JEFATURA DE GOBIERNO"
          ],
          [
           "MINISTERIO DE ESPACIO PUBLICO E HIGIENE URBANA",
           109,
           "MINISTERIO DE ESPACIO PUBLICO E HIGIENE URBANA"
          ],
          [
           "JEFATURA DE GABINETE DE MINISTROS",
           372,
           "JEFATURA DE GABINETE DE MINISTROS"
          ],
          [
           "MINISTERIO DE HACIENDA y FINANZAS",
           249,
           "MINISTERIO DE HACIENDA y FINANZAS"
          ],
          [
           "MINISTERIO DE SALUD",
           385,
           "MINISTERIO DE SALUD"
          ],
          [
           "MINISTERIO DE GOBIERNO",
           68,
           "MINISTERIO DE GOBIERNO"
          ],
          [
           "MINISTERIO DE JUSTICIA Y SEGURIDAD",
           82,
           "MINISTERIO DE JUSTICIA Y SEGURIDAD"
          ],
          [
           "MINISTERIO DE DESARROLLO HUMANO Y HÁBITAT",
           258,
           "MINISTERIO DE DESARROLLO HUMANO Y HÁBITAT"
          ]
         ],
         "domain": {
          "x": [
           0,
           1
          ],
          "y": [
           0,
           1
          ]
         },
         "hovertemplate": "labels=%{label}<br>Cantidad=%{customdata[2]}<br>parent=%{parent}<br>id=%{id}<extra></extra>",
         "ids": [
          "MINISTERIO DE EDUCACIÓN",
          "MINISTERIO DE CULTURA",
          "JEFATURA DE GOBIERNO",
          "MINISTERIO DE ESPACIO PUBLICO E HIGIENE URBANA",
          "JEFATURA DE GABINETE DE MINISTROS",
          "MINISTERIO DE HACIENDA y FINANZAS",
          "MINISTERIO DE SALUD",
          "MINISTERIO DE GOBIERNO",
          "MINISTERIO DE JUSTICIA Y SEGURIDAD",
          "MINISTERIO DE DESARROLLO HUMANO Y HÁBITAT"
         ],
         "labels": [
          "MINISTERIO DE EDUCACIÓN",
          "MINISTERIO DE CULTURA",
          "JEFATURA DE GOBIERNO",
          "MINISTERIO DE ESPACIO PUBLICO E HIGIENE URBANA",
          "JEFATURA DE GABINETE DE MINISTROS",
          "MINISTERIO DE HACIENDA y FINANZAS",
          "MINISTERIO DE SALUD",
          "MINISTERIO DE GOBIERNO",
          "MINISTERIO DE JUSTICIA Y SEGURIDAD",
          "MINISTERIO DE DESARROLLO HUMANO Y HÁBITAT"
         ],
         "marker": {
          "colors": [
           "#636efa",
           "#EF553B",
           "#00cc96",
           "#ab63fa",
           "#FFA15A",
           "#19d3f3",
           "#FF6692",
           "#B6E880",
           "#FF97FF",
           "#FECB52"
          ]
         },
         "name": "",
         "parents": [
          "",
          "",
          "",
          "",
          "",
          "",
          "",
          "",
          "",
          ""
         ],
         "type": "treemap",
         "values": [
          2509,
          2061,
          431,
          109,
          372,
          249,
          385,
          68,
          82,
          258
         ]
        }
       ],
       "layout": {
        "legend": {
         "tracegroupgap": 0
        },
        "margin": {
         "t": 60
        },
        "template": {
         "data": {
          "bar": [
           {
            "error_x": {
             "color": "#f2f5fa"
            },
            "error_y": {
             "color": "#f2f5fa"
            },
            "marker": {
             "line": {
              "color": "rgb(17,17,17)",
              "width": 0.5
             },
             "pattern": {
              "fillmode": "overlay",
              "size": 10,
              "solidity": 0.2
             }
            },
            "type": "bar"
           }
          ],
          "barpolar": [
           {
            "marker": {
             "line": {
              "color": "rgb(17,17,17)",
              "width": 0.5
             },
             "pattern": {
              "fillmode": "overlay",
              "size": 10,
              "solidity": 0.2
             }
            },
            "type": "barpolar"
           }
          ],
          "carpet": [
           {
            "aaxis": {
             "endlinecolor": "#A2B1C6",
             "gridcolor": "#506784",
             "linecolor": "#506784",
             "minorgridcolor": "#506784",
             "startlinecolor": "#A2B1C6"
            },
            "baxis": {
             "endlinecolor": "#A2B1C6",
             "gridcolor": "#506784",
             "linecolor": "#506784",
             "minorgridcolor": "#506784",
             "startlinecolor": "#A2B1C6"
            },
            "type": "carpet"
           }
          ],
          "choropleth": [
           {
            "colorbar": {
             "outlinewidth": 0,
             "ticks": ""
            },
            "type": "choropleth"
           }
          ],
          "contour": [
           {
            "colorbar": {
             "outlinewidth": 0,
             "ticks": ""
            },
            "colorscale": [
             [
              0,
              "#0d0887"
             ],
             [
              0.1111111111111111,
              "#46039f"
             ],
             [
              0.2222222222222222,
              "#7201a8"
             ],
             [
              0.3333333333333333,
              "#9c179e"
             ],
             [
              0.4444444444444444,
              "#bd3786"
             ],
             [
              0.5555555555555556,
              "#d8576b"
             ],
             [
              0.6666666666666666,
              "#ed7953"
             ],
             [
              0.7777777777777778,
              "#fb9f3a"
             ],
             [
              0.8888888888888888,
              "#fdca26"
             ],
             [
              1,
              "#f0f921"
             ]
            ],
            "type": "contour"
           }
          ],
          "contourcarpet": [
           {
            "colorbar": {
             "outlinewidth": 0,
             "ticks": ""
            },
            "type": "contourcarpet"
           }
          ],
          "heatmap": [
           {
            "colorbar": {
             "outlinewidth": 0,
             "ticks": ""
            },
            "colorscale": [
             [
              0,
              "#0d0887"
             ],
             [
              0.1111111111111111,
              "#46039f"
             ],
             [
              0.2222222222222222,
              "#7201a8"
             ],
             [
              0.3333333333333333,
              "#9c179e"
             ],
             [
              0.4444444444444444,
              "#bd3786"
             ],
             [
              0.5555555555555556,
              "#d8576b"
             ],
             [
              0.6666666666666666,
              "#ed7953"
             ],
             [
              0.7777777777777778,
              "#fb9f3a"
             ],
             [
              0.8888888888888888,
              "#fdca26"
             ],
             [
              1,
              "#f0f921"
             ]
            ],
            "type": "heatmap"
           }
          ],
          "heatmapgl": [
           {
            "colorbar": {
             "outlinewidth": 0,
             "ticks": ""
            },
            "colorscale": [
             [
              0,
              "#0d0887"
             ],
             [
              0.1111111111111111,
              "#46039f"
             ],
             [
              0.2222222222222222,
              "#7201a8"
             ],
             [
              0.3333333333333333,
              "#9c179e"
             ],
             [
              0.4444444444444444,
              "#bd3786"
             ],
             [
              0.5555555555555556,
              "#d8576b"
             ],
             [
              0.6666666666666666,
              "#ed7953"
             ],
             [
              0.7777777777777778,
              "#fb9f3a"
             ],
             [
              0.8888888888888888,
              "#fdca26"
             ],
             [
              1,
              "#f0f921"
             ]
            ],
            "type": "heatmapgl"
           }
          ],
          "histogram": [
           {
            "marker": {
             "pattern": {
              "fillmode": "overlay",
              "size": 10,
              "solidity": 0.2
             }
            },
            "type": "histogram"
           }
          ],
          "histogram2d": [
           {
            "colorbar": {
             "outlinewidth": 0,
             "ticks": ""
            },
            "colorscale": [
             [
              0,
              "#0d0887"
             ],
             [
              0.1111111111111111,
              "#46039f"
             ],
             [
              0.2222222222222222,
              "#7201a8"
             ],
             [
              0.3333333333333333,
              "#9c179e"
             ],
             [
              0.4444444444444444,
              "#bd3786"
             ],
             [
              0.5555555555555556,
              "#d8576b"
             ],
             [
              0.6666666666666666,
              "#ed7953"
             ],
             [
              0.7777777777777778,
              "#fb9f3a"
             ],
             [
              0.8888888888888888,
              "#fdca26"
             ],
             [
              1,
              "#f0f921"
             ]
            ],
            "type": "histogram2d"
           }
          ],
          "histogram2dcontour": [
           {
            "colorbar": {
             "outlinewidth": 0,
             "ticks": ""
            },
            "colorscale": [
             [
              0,
              "#0d0887"
             ],
             [
              0.1111111111111111,
              "#46039f"
             ],
             [
              0.2222222222222222,
              "#7201a8"
             ],
             [
              0.3333333333333333,
              "#9c179e"
             ],
             [
              0.4444444444444444,
              "#bd3786"
             ],
             [
              0.5555555555555556,
              "#d8576b"
             ],
             [
              0.6666666666666666,
              "#ed7953"
             ],
             [
              0.7777777777777778,
              "#fb9f3a"
             ],
             [
              0.8888888888888888,
              "#fdca26"
             ],
             [
              1,
              "#f0f921"
             ]
            ],
            "type": "histogram2dcontour"
           }
          ],
          "mesh3d": [
           {
            "colorbar": {
             "outlinewidth": 0,
             "ticks": ""
            },
            "type": "mesh3d"
           }
          ],
          "parcoords": [
           {
            "line": {
             "colorbar": {
              "outlinewidth": 0,
              "ticks": ""
             }
            },
            "type": "parcoords"
           }
          ],
          "pie": [
           {
            "automargin": true,
            "type": "pie"
           }
          ],
          "scatter": [
           {
            "marker": {
             "line": {
              "color": "#283442"
             }
            },
            "type": "scatter"
           }
          ],
          "scatter3d": [
           {
            "line": {
             "colorbar": {
              "outlinewidth": 0,
              "ticks": ""
             }
            },
            "marker": {
             "colorbar": {
              "outlinewidth": 0,
              "ticks": ""
             }
            },
            "type": "scatter3d"
           }
          ],
          "scattercarpet": [
           {
            "marker": {
             "colorbar": {
              "outlinewidth": 0,
              "ticks": ""
             }
            },
            "type": "scattercarpet"
           }
          ],
          "scattergeo": [
           {
            "marker": {
             "colorbar": {
              "outlinewidth": 0,
              "ticks": ""
             }
            },
            "type": "scattergeo"
           }
          ],
          "scattergl": [
           {
            "marker": {
             "line": {
              "color": "#283442"
             }
            },
            "type": "scattergl"
           }
          ],
          "scattermapbox": [
           {
            "marker": {
             "colorbar": {
              "outlinewidth": 0,
              "ticks": ""
             }
            },
            "type": "scattermapbox"
           }
          ],
          "scatterpolar": [
           {
            "marker": {
             "colorbar": {
              "outlinewidth": 0,
              "ticks": ""
             }
            },
            "type": "scatterpolar"
           }
          ],
          "scatterpolargl": [
           {
            "marker": {
             "colorbar": {
              "outlinewidth": 0,
              "ticks": ""
             }
            },
            "type": "scatterpolargl"
           }
          ],
          "scatterternary": [
           {
            "marker": {
             "colorbar": {
              "outlinewidth": 0,
              "ticks": ""
             }
            },
            "type": "scatterternary"
           }
          ],
          "surface": [
           {
            "colorbar": {
             "outlinewidth": 0,
             "ticks": ""
            },
            "colorscale": [
             [
              0,
              "#0d0887"
             ],
             [
              0.1111111111111111,
              "#46039f"
             ],
             [
              0.2222222222222222,
              "#7201a8"
             ],
             [
              0.3333333333333333,
              "#9c179e"
             ],
             [
              0.4444444444444444,
              "#bd3786"
             ],
             [
              0.5555555555555556,
              "#d8576b"
             ],
             [
              0.6666666666666666,
              "#ed7953"
             ],
             [
              0.7777777777777778,
              "#fb9f3a"
             ],
             [
              0.8888888888888888,
              "#fdca26"
             ],
             [
              1,
              "#f0f921"
             ]
            ],
            "type": "surface"
           }
          ],
          "table": [
           {
            "cells": {
             "fill": {
              "color": "#506784"
             },
             "line": {
              "color": "rgb(17,17,17)"
             }
            },
            "header": {
             "fill": {
              "color": "#2a3f5f"
             },
             "line": {
              "color": "rgb(17,17,17)"
             }
            },
            "type": "table"
           }
          ]
         },
         "layout": {
          "annotationdefaults": {
           "arrowcolor": "#f2f5fa",
           "arrowhead": 0,
           "arrowwidth": 1
          },
          "autotypenumbers": "strict",
          "coloraxis": {
           "colorbar": {
            "outlinewidth": 0,
            "ticks": ""
           }
          },
          "colorscale": {
           "diverging": [
            [
             0,
             "#8e0152"
            ],
            [
             0.1,
             "#c51b7d"
            ],
            [
             0.2,
             "#de77ae"
            ],
            [
             0.3,
             "#f1b6da"
            ],
            [
             0.4,
             "#fde0ef"
            ],
            [
             0.5,
             "#f7f7f7"
            ],
            [
             0.6,
             "#e6f5d0"
            ],
            [
             0.7,
             "#b8e186"
            ],
            [
             0.8,
             "#7fbc41"
            ],
            [
             0.9,
             "#4d9221"
            ],
            [
             1,
             "#276419"
            ]
           ],
           "sequential": [
            [
             0,
             "#0d0887"
            ],
            [
             0.1111111111111111,
             "#46039f"
            ],
            [
             0.2222222222222222,
             "#7201a8"
            ],
            [
             0.3333333333333333,
             "#9c179e"
            ],
            [
             0.4444444444444444,
             "#bd3786"
            ],
            [
             0.5555555555555556,
             "#d8576b"
            ],
            [
             0.6666666666666666,
             "#ed7953"
            ],
            [
             0.7777777777777778,
             "#fb9f3a"
            ],
            [
             0.8888888888888888,
             "#fdca26"
            ],
            [
             1,
             "#f0f921"
            ]
           ],
           "sequentialminus": [
            [
             0,
             "#0d0887"
            ],
            [
             0.1111111111111111,
             "#46039f"
            ],
            [
             0.2222222222222222,
             "#7201a8"
            ],
            [
             0.3333333333333333,
             "#9c179e"
            ],
            [
             0.4444444444444444,
             "#bd3786"
            ],
            [
             0.5555555555555556,
             "#d8576b"
            ],
            [
             0.6666666666666666,
             "#ed7953"
            ],
            [
             0.7777777777777778,
             "#fb9f3a"
            ],
            [
             0.8888888888888888,
             "#fdca26"
            ],
            [
             1,
             "#f0f921"
            ]
           ]
          },
          "colorway": [
           "#636efa",
           "#EF553B",
           "#00cc96",
           "#ab63fa",
           "#FFA15A",
           "#19d3f3",
           "#FF6692",
           "#B6E880",
           "#FF97FF",
           "#FECB52"
          ],
          "font": {
           "color": "#f2f5fa"
          },
          "geo": {
           "bgcolor": "rgb(17,17,17)",
           "lakecolor": "rgb(17,17,17)",
           "landcolor": "rgb(17,17,17)",
           "showlakes": true,
           "showland": true,
           "subunitcolor": "#506784"
          },
          "hoverlabel": {
           "align": "left"
          },
          "hovermode": "closest",
          "mapbox": {
           "style": "dark"
          },
          "paper_bgcolor": "rgb(17,17,17)",
          "plot_bgcolor": "rgb(17,17,17)",
          "polar": {
           "angularaxis": {
            "gridcolor": "#506784",
            "linecolor": "#506784",
            "ticks": ""
           },
           "bgcolor": "rgb(17,17,17)",
           "radialaxis": {
            "gridcolor": "#506784",
            "linecolor": "#506784",
            "ticks": ""
           }
          },
          "scene": {
           "xaxis": {
            "backgroundcolor": "rgb(17,17,17)",
            "gridcolor": "#506784",
            "gridwidth": 2,
            "linecolor": "#506784",
            "showbackground": true,
            "ticks": "",
            "zerolinecolor": "#C8D4E3"
           },
           "yaxis": {
            "backgroundcolor": "rgb(17,17,17)",
            "gridcolor": "#506784",
            "gridwidth": 2,
            "linecolor": "#506784",
            "showbackground": true,
            "ticks": "",
            "zerolinecolor": "#C8D4E3"
           },
           "zaxis": {
            "backgroundcolor": "rgb(17,17,17)",
            "gridcolor": "#506784",
            "gridwidth": 2,
            "linecolor": "#506784",
            "showbackground": true,
            "ticks": "",
            "zerolinecolor": "#C8D4E3"
           }
          },
          "shapedefaults": {
           "line": {
            "color": "#f2f5fa"
           }
          },
          "sliderdefaults": {
           "bgcolor": "#C8D4E3",
           "bordercolor": "rgb(17,17,17)",
           "borderwidth": 1,
           "tickwidth": 0
          },
          "ternary": {
           "aaxis": {
            "gridcolor": "#506784",
            "linecolor": "#506784",
            "ticks": ""
           },
           "baxis": {
            "gridcolor": "#506784",
            "linecolor": "#506784",
            "ticks": ""
           },
           "bgcolor": "rgb(17,17,17)",
           "caxis": {
            "gridcolor": "#506784",
            "linecolor": "#506784",
            "ticks": ""
           }
          },
          "title": {
           "x": 0.05
          },
          "updatemenudefaults": {
           "bgcolor": "#506784",
           "borderwidth": 0
          },
          "xaxis": {
           "automargin": true,
           "gridcolor": "#283442",
           "linecolor": "#506784",
           "ticks": "",
           "title": {
            "standoff": 15
           },
           "zerolinecolor": "#283442",
           "zerolinewidth": 2
          },
          "yaxis": {
           "automargin": true,
           "gridcolor": "#283442",
           "linecolor": "#506784",
           "ticks": "",
           "title": {
            "standoff": 15
           },
           "zerolinecolor": "#283442",
           "zerolinewidth": 2
          }
         }
        }
       }
      }
     },
     "metadata": {},
     "output_type": "display_data"
    }
   ],
   "source": [
    "fig = px.treemap(jurisdiccionPorCantidad.head(10), path=[\"Jurisdicción\"], values=\"Cantidad\", hover_data=[\"Jurisdicción\",\"Cantidad\"], \n",
    "                  color=\"Jurisdicción\", \n",
    "                  template=\"plotly_dark\",\n",
    "                  labels={\"Jurisdicción\":\"Cantidad\"})\n",
    "fig.show()"
   ]
  },
  {
   "cell_type": "markdown",
   "metadata": {},
   "source": [
    "### 2. Cantidad de Ordenes por Proveedor"
   ]
  },
  {
   "cell_type": "code",
   "execution_count": 10,
   "metadata": {},
   "outputs": [
    {
     "data": {
      "text/html": [
       "<div>\n",
       "<style scoped>\n",
       "    .dataframe tbody tr th:only-of-type {\n",
       "        vertical-align: middle;\n",
       "    }\n",
       "\n",
       "    .dataframe tbody tr th {\n",
       "        vertical-align: top;\n",
       "    }\n",
       "\n",
       "    .dataframe thead th {\n",
       "        text-align: right;\n",
       "    }\n",
       "</style>\n",
       "<table border=\"1\" class=\"dataframe\">\n",
       "  <thead>\n",
       "    <tr style=\"text-align: right;\">\n",
       "      <th></th>\n",
       "      <th>Nombre</th>\n",
       "      <th>Cantidad</th>\n",
       "    </tr>\n",
       "  </thead>\n",
       "  <tbody>\n",
       "    <tr>\n",
       "      <th>0</th>\n",
       "      <td>BANCO DE LA CIUDAD DE BUENOS AIRES</td>\n",
       "      <td>264</td>\n",
       "    </tr>\n",
       "    <tr>\n",
       "      <th>1</th>\n",
       "      <td>GABRIELA ISABEL GONZALEZ SUREDA</td>\n",
       "      <td>132</td>\n",
       "    </tr>\n",
       "    <tr>\n",
       "      <th>2</th>\n",
       "      <td>PISHENIN OLEG</td>\n",
       "      <td>70</td>\n",
       "    </tr>\n",
       "    <tr>\n",
       "      <th>3</th>\n",
       "      <td>CANIS ELISABETH MARIANA</td>\n",
       "      <td>56</td>\n",
       "    </tr>\n",
       "    <tr>\n",
       "      <th>4</th>\n",
       "      <td>RIOS LUCIANO HORACIO</td>\n",
       "      <td>55</td>\n",
       "    </tr>\n",
       "    <tr>\n",
       "      <th>...</th>\n",
       "      <td>...</td>\n",
       "      <td>...</td>\n",
       "    </tr>\n",
       "    <tr>\n",
       "      <th>481</th>\n",
       "      <td>CURA MARIANO MARTIN</td>\n",
       "      <td>1</td>\n",
       "    </tr>\n",
       "    <tr>\n",
       "      <th>482</th>\n",
       "      <td>DELGADO JOSEFINA ROSALIA DE LOS ANGELE</td>\n",
       "      <td>1</td>\n",
       "    </tr>\n",
       "    <tr>\n",
       "      <th>483</th>\n",
       "      <td>LABORDA ROEL WALTER ARIEL</td>\n",
       "      <td>1</td>\n",
       "    </tr>\n",
       "    <tr>\n",
       "      <th>484</th>\n",
       "      <td>FAZIO FABIAN MARCELO</td>\n",
       "      <td>1</td>\n",
       "    </tr>\n",
       "    <tr>\n",
       "      <th>485</th>\n",
       "      <td>EDUARDO SCAGLIOTTI</td>\n",
       "      <td>1</td>\n",
       "    </tr>\n",
       "  </tbody>\n",
       "</table>\n",
       "<p>486 rows × 2 columns</p>\n",
       "</div>"
      ],
      "text/plain": [
       "                                     Nombre  Cantidad\n",
       "0        BANCO DE LA CIUDAD DE BUENOS AIRES       264\n",
       "1           GABRIELA ISABEL GONZALEZ SUREDA       132\n",
       "2                             PISHENIN OLEG        70\n",
       "3                   CANIS ELISABETH MARIANA        56\n",
       "4                      RIOS LUCIANO HORACIO        55\n",
       "..                                      ...       ...\n",
       "481                     CURA MARIANO MARTIN         1\n",
       "482  DELGADO JOSEFINA ROSALIA DE LOS ANGELE         1\n",
       "483               LABORDA ROEL WALTER ARIEL         1\n",
       "484                    FAZIO FABIAN MARCELO         1\n",
       "485                      EDUARDO SCAGLIOTTI         1\n",
       "\n",
       "[486 rows x 2 columns]"
      ]
     },
     "execution_count": 10,
     "metadata": {},
     "output_type": "execute_result"
    }
   ],
   "source": [
    "proveedorPorCantidad = df['Proveedor'].value_counts().to_frame().reset_index(inplace=False)\n",
    "proveedorPorCantidad.columns = ['Nombre','Cantidad']\t\n",
    "proveedorPorCantidad"
   ]
  },
  {
   "cell_type": "code",
   "execution_count": 11,
   "metadata": {},
   "outputs": [
    {
     "data": {
      "application/vnd.plotly.v1+json": {
       "config": {
        "plotlyServerURL": "https://plot.ly"
       },
       "data": [
        {
         "branchvalues": "total",
         "customdata": [
          [
           "BANCO DE LA CIUDAD DE BUENOS AIRES",
           264,
           "BANCO DE LA CIUDAD DE BUENOS AIRES"
          ],
          [
           "SILBERGLEIT HUGO T",
           52,
           "SILBERGLEIT HUGO T"
          ],
          [
           "ELENA LUZ GONZÁLEZ BAZÁN",
           50,
           "ELENA LUZ GONZÁLEZ BAZÁN"
          ],
          [
           "RIOS LUCIANO HORACIO",
           55,
           "RIOS LUCIANO HORACIO"
          ],
          [
           "BARRY EDITORIAL COMERCIAL E INDUSTRIAL SRL",
           49,
           "BARRY EDITORIAL COMERCIAL E INDUSTRIAL SRL"
          ],
          [
           "SUCESORES S.A.",
           54,
           "SUCESORES S.A."
          ],
          [
           "CANIS ELISABETH MARIANA",
           56,
           "CANIS ELISABETH MARIANA"
          ],
          [
           "GABRIELA ISABEL GONZALEZ SUREDA",
           132,
           "GABRIELA ISABEL GONZALEZ SUREDA"
          ],
          [
           "PISHENIN OLEG",
           70,
           "PISHENIN OLEG"
          ],
          [
           "LA ROCCA GABRIEL GUSTAVO",
           47,
           "LA ROCCA GABRIEL GUSTAVO"
          ]
         ],
         "domain": {
          "x": [
           0,
           1
          ],
          "y": [
           0,
           1
          ]
         },
         "hovertemplate": "labels=%{label}<br>Cantidad=%{customdata[2]}<br>parent=%{parent}<br>id=%{id}<extra></extra>",
         "ids": [
          "BANCO DE LA CIUDAD DE BUENOS AIRES",
          "SILBERGLEIT HUGO T",
          "ELENA LUZ GONZÁLEZ BAZÁN",
          "RIOS LUCIANO HORACIO",
          "BARRY EDITORIAL COMERCIAL E INDUSTRIAL SRL",
          "SUCESORES S.A.",
          "CANIS ELISABETH MARIANA",
          "GABRIELA ISABEL GONZALEZ SUREDA",
          "PISHENIN OLEG",
          "LA ROCCA GABRIEL GUSTAVO"
         ],
         "labels": [
          "BANCO DE LA CIUDAD DE BUENOS AIRES",
          "SILBERGLEIT HUGO T",
          "ELENA LUZ GONZÁLEZ BAZÁN",
          "RIOS LUCIANO HORACIO",
          "BARRY EDITORIAL COMERCIAL E INDUSTRIAL SRL",
          "SUCESORES S.A.",
          "CANIS ELISABETH MARIANA",
          "GABRIELA ISABEL GONZALEZ SUREDA",
          "PISHENIN OLEG",
          "LA ROCCA GABRIEL GUSTAVO"
         ],
         "marker": {
          "colors": [
           "#636efa",
           "#EF553B",
           "#00cc96",
           "#ab63fa",
           "#FFA15A",
           "#19d3f3",
           "#FF6692",
           "#B6E880",
           "#FF97FF",
           "#FECB52"
          ]
         },
         "name": "",
         "parents": [
          "",
          "",
          "",
          "",
          "",
          "",
          "",
          "",
          "",
          ""
         ],
         "type": "treemap",
         "values": [
          264,
          52,
          50,
          55,
          49,
          54,
          56,
          132,
          70,
          47
         ]
        }
       ],
       "layout": {
        "legend": {
         "tracegroupgap": 0
        },
        "margin": {
         "t": 60
        },
        "template": {
         "data": {
          "bar": [
           {
            "error_x": {
             "color": "#f2f5fa"
            },
            "error_y": {
             "color": "#f2f5fa"
            },
            "marker": {
             "line": {
              "color": "rgb(17,17,17)",
              "width": 0.5
             },
             "pattern": {
              "fillmode": "overlay",
              "size": 10,
              "solidity": 0.2
             }
            },
            "type": "bar"
           }
          ],
          "barpolar": [
           {
            "marker": {
             "line": {
              "color": "rgb(17,17,17)",
              "width": 0.5
             },
             "pattern": {
              "fillmode": "overlay",
              "size": 10,
              "solidity": 0.2
             }
            },
            "type": "barpolar"
           }
          ],
          "carpet": [
           {
            "aaxis": {
             "endlinecolor": "#A2B1C6",
             "gridcolor": "#506784",
             "linecolor": "#506784",
             "minorgridcolor": "#506784",
             "startlinecolor": "#A2B1C6"
            },
            "baxis": {
             "endlinecolor": "#A2B1C6",
             "gridcolor": "#506784",
             "linecolor": "#506784",
             "minorgridcolor": "#506784",
             "startlinecolor": "#A2B1C6"
            },
            "type": "carpet"
           }
          ],
          "choropleth": [
           {
            "colorbar": {
             "outlinewidth": 0,
             "ticks": ""
            },
            "type": "choropleth"
           }
          ],
          "contour": [
           {
            "colorbar": {
             "outlinewidth": 0,
             "ticks": ""
            },
            "colorscale": [
             [
              0,
              "#0d0887"
             ],
             [
              0.1111111111111111,
              "#46039f"
             ],
             [
              0.2222222222222222,
              "#7201a8"
             ],
             [
              0.3333333333333333,
              "#9c179e"
             ],
             [
              0.4444444444444444,
              "#bd3786"
             ],
             [
              0.5555555555555556,
              "#d8576b"
             ],
             [
              0.6666666666666666,
              "#ed7953"
             ],
             [
              0.7777777777777778,
              "#fb9f3a"
             ],
             [
              0.8888888888888888,
              "#fdca26"
             ],
             [
              1,
              "#f0f921"
             ]
            ],
            "type": "contour"
           }
          ],
          "contourcarpet": [
           {
            "colorbar": {
             "outlinewidth": 0,
             "ticks": ""
            },
            "type": "contourcarpet"
           }
          ],
          "heatmap": [
           {
            "colorbar": {
             "outlinewidth": 0,
             "ticks": ""
            },
            "colorscale": [
             [
              0,
              "#0d0887"
             ],
             [
              0.1111111111111111,
              "#46039f"
             ],
             [
              0.2222222222222222,
              "#7201a8"
             ],
             [
              0.3333333333333333,
              "#9c179e"
             ],
             [
              0.4444444444444444,
              "#bd3786"
             ],
             [
              0.5555555555555556,
              "#d8576b"
             ],
             [
              0.6666666666666666,
              "#ed7953"
             ],
             [
              0.7777777777777778,
              "#fb9f3a"
             ],
             [
              0.8888888888888888,
              "#fdca26"
             ],
             [
              1,
              "#f0f921"
             ]
            ],
            "type": "heatmap"
           }
          ],
          "heatmapgl": [
           {
            "colorbar": {
             "outlinewidth": 0,
             "ticks": ""
            },
            "colorscale": [
             [
              0,
              "#0d0887"
             ],
             [
              0.1111111111111111,
              "#46039f"
             ],
             [
              0.2222222222222222,
              "#7201a8"
             ],
             [
              0.3333333333333333,
              "#9c179e"
             ],
             [
              0.4444444444444444,
              "#bd3786"
             ],
             [
              0.5555555555555556,
              "#d8576b"
             ],
             [
              0.6666666666666666,
              "#ed7953"
             ],
             [
              0.7777777777777778,
              "#fb9f3a"
             ],
             [
              0.8888888888888888,
              "#fdca26"
             ],
             [
              1,
              "#f0f921"
             ]
            ],
            "type": "heatmapgl"
           }
          ],
          "histogram": [
           {
            "marker": {
             "pattern": {
              "fillmode": "overlay",
              "size": 10,
              "solidity": 0.2
             }
            },
            "type": "histogram"
           }
          ],
          "histogram2d": [
           {
            "colorbar": {
             "outlinewidth": 0,
             "ticks": ""
            },
            "colorscale": [
             [
              0,
              "#0d0887"
             ],
             [
              0.1111111111111111,
              "#46039f"
             ],
             [
              0.2222222222222222,
              "#7201a8"
             ],
             [
              0.3333333333333333,
              "#9c179e"
             ],
             [
              0.4444444444444444,
              "#bd3786"
             ],
             [
              0.5555555555555556,
              "#d8576b"
             ],
             [
              0.6666666666666666,
              "#ed7953"
             ],
             [
              0.7777777777777778,
              "#fb9f3a"
             ],
             [
              0.8888888888888888,
              "#fdca26"
             ],
             [
              1,
              "#f0f921"
             ]
            ],
            "type": "histogram2d"
           }
          ],
          "histogram2dcontour": [
           {
            "colorbar": {
             "outlinewidth": 0,
             "ticks": ""
            },
            "colorscale": [
             [
              0,
              "#0d0887"
             ],
             [
              0.1111111111111111,
              "#46039f"
             ],
             [
              0.2222222222222222,
              "#7201a8"
             ],
             [
              0.3333333333333333,
              "#9c179e"
             ],
             [
              0.4444444444444444,
              "#bd3786"
             ],
             [
              0.5555555555555556,
              "#d8576b"
             ],
             [
              0.6666666666666666,
              "#ed7953"
             ],
             [
              0.7777777777777778,
              "#fb9f3a"
             ],
             [
              0.8888888888888888,
              "#fdca26"
             ],
             [
              1,
              "#f0f921"
             ]
            ],
            "type": "histogram2dcontour"
           }
          ],
          "mesh3d": [
           {
            "colorbar": {
             "outlinewidth": 0,
             "ticks": ""
            },
            "type": "mesh3d"
           }
          ],
          "parcoords": [
           {
            "line": {
             "colorbar": {
              "outlinewidth": 0,
              "ticks": ""
             }
            },
            "type": "parcoords"
           }
          ],
          "pie": [
           {
            "automargin": true,
            "type": "pie"
           }
          ],
          "scatter": [
           {
            "marker": {
             "line": {
              "color": "#283442"
             }
            },
            "type": "scatter"
           }
          ],
          "scatter3d": [
           {
            "line": {
             "colorbar": {
              "outlinewidth": 0,
              "ticks": ""
             }
            },
            "marker": {
             "colorbar": {
              "outlinewidth": 0,
              "ticks": ""
             }
            },
            "type": "scatter3d"
           }
          ],
          "scattercarpet": [
           {
            "marker": {
             "colorbar": {
              "outlinewidth": 0,
              "ticks": ""
             }
            },
            "type": "scattercarpet"
           }
          ],
          "scattergeo": [
           {
            "marker": {
             "colorbar": {
              "outlinewidth": 0,
              "ticks": ""
             }
            },
            "type": "scattergeo"
           }
          ],
          "scattergl": [
           {
            "marker": {
             "line": {
              "color": "#283442"
             }
            },
            "type": "scattergl"
           }
          ],
          "scattermapbox": [
           {
            "marker": {
             "colorbar": {
              "outlinewidth": 0,
              "ticks": ""
             }
            },
            "type": "scattermapbox"
           }
          ],
          "scatterpolar": [
           {
            "marker": {
             "colorbar": {
              "outlinewidth": 0,
              "ticks": ""
             }
            },
            "type": "scatterpolar"
           }
          ],
          "scatterpolargl": [
           {
            "marker": {
             "colorbar": {
              "outlinewidth": 0,
              "ticks": ""
             }
            },
            "type": "scatterpolargl"
           }
          ],
          "scatterternary": [
           {
            "marker": {
             "colorbar": {
              "outlinewidth": 0,
              "ticks": ""
             }
            },
            "type": "scatterternary"
           }
          ],
          "surface": [
           {
            "colorbar": {
             "outlinewidth": 0,
             "ticks": ""
            },
            "colorscale": [
             [
              0,
              "#0d0887"
             ],
             [
              0.1111111111111111,
              "#46039f"
             ],
             [
              0.2222222222222222,
              "#7201a8"
             ],
             [
              0.3333333333333333,
              "#9c179e"
             ],
             [
              0.4444444444444444,
              "#bd3786"
             ],
             [
              0.5555555555555556,
              "#d8576b"
             ],
             [
              0.6666666666666666,
              "#ed7953"
             ],
             [
              0.7777777777777778,
              "#fb9f3a"
             ],
             [
              0.8888888888888888,
              "#fdca26"
             ],
             [
              1,
              "#f0f921"
             ]
            ],
            "type": "surface"
           }
          ],
          "table": [
           {
            "cells": {
             "fill": {
              "color": "#506784"
             },
             "line": {
              "color": "rgb(17,17,17)"
             }
            },
            "header": {
             "fill": {
              "color": "#2a3f5f"
             },
             "line": {
              "color": "rgb(17,17,17)"
             }
            },
            "type": "table"
           }
          ]
         },
         "layout": {
          "annotationdefaults": {
           "arrowcolor": "#f2f5fa",
           "arrowhead": 0,
           "arrowwidth": 1
          },
          "autotypenumbers": "strict",
          "coloraxis": {
           "colorbar": {
            "outlinewidth": 0,
            "ticks": ""
           }
          },
          "colorscale": {
           "diverging": [
            [
             0,
             "#8e0152"
            ],
            [
             0.1,
             "#c51b7d"
            ],
            [
             0.2,
             "#de77ae"
            ],
            [
             0.3,
             "#f1b6da"
            ],
            [
             0.4,
             "#fde0ef"
            ],
            [
             0.5,
             "#f7f7f7"
            ],
            [
             0.6,
             "#e6f5d0"
            ],
            [
             0.7,
             "#b8e186"
            ],
            [
             0.8,
             "#7fbc41"
            ],
            [
             0.9,
             "#4d9221"
            ],
            [
             1,
             "#276419"
            ]
           ],
           "sequential": [
            [
             0,
             "#0d0887"
            ],
            [
             0.1111111111111111,
             "#46039f"
            ],
            [
             0.2222222222222222,
             "#7201a8"
            ],
            [
             0.3333333333333333,
             "#9c179e"
            ],
            [
             0.4444444444444444,
             "#bd3786"
            ],
            [
             0.5555555555555556,
             "#d8576b"
            ],
            [
             0.6666666666666666,
             "#ed7953"
            ],
            [
             0.7777777777777778,
             "#fb9f3a"
            ],
            [
             0.8888888888888888,
             "#fdca26"
            ],
            [
             1,
             "#f0f921"
            ]
           ],
           "sequentialminus": [
            [
             0,
             "#0d0887"
            ],
            [
             0.1111111111111111,
             "#46039f"
            ],
            [
             0.2222222222222222,
             "#7201a8"
            ],
            [
             0.3333333333333333,
             "#9c179e"
            ],
            [
             0.4444444444444444,
             "#bd3786"
            ],
            [
             0.5555555555555556,
             "#d8576b"
            ],
            [
             0.6666666666666666,
             "#ed7953"
            ],
            [
             0.7777777777777778,
             "#fb9f3a"
            ],
            [
             0.8888888888888888,
             "#fdca26"
            ],
            [
             1,
             "#f0f921"
            ]
           ]
          },
          "colorway": [
           "#636efa",
           "#EF553B",
           "#00cc96",
           "#ab63fa",
           "#FFA15A",
           "#19d3f3",
           "#FF6692",
           "#B6E880",
           "#FF97FF",
           "#FECB52"
          ],
          "font": {
           "color": "#f2f5fa"
          },
          "geo": {
           "bgcolor": "rgb(17,17,17)",
           "lakecolor": "rgb(17,17,17)",
           "landcolor": "rgb(17,17,17)",
           "showlakes": true,
           "showland": true,
           "subunitcolor": "#506784"
          },
          "hoverlabel": {
           "align": "left"
          },
          "hovermode": "closest",
          "mapbox": {
           "style": "dark"
          },
          "paper_bgcolor": "rgb(17,17,17)",
          "plot_bgcolor": "rgb(17,17,17)",
          "polar": {
           "angularaxis": {
            "gridcolor": "#506784",
            "linecolor": "#506784",
            "ticks": ""
           },
           "bgcolor": "rgb(17,17,17)",
           "radialaxis": {
            "gridcolor": "#506784",
            "linecolor": "#506784",
            "ticks": ""
           }
          },
          "scene": {
           "xaxis": {
            "backgroundcolor": "rgb(17,17,17)",
            "gridcolor": "#506784",
            "gridwidth": 2,
            "linecolor": "#506784",
            "showbackground": true,
            "ticks": "",
            "zerolinecolor": "#C8D4E3"
           },
           "yaxis": {
            "backgroundcolor": "rgb(17,17,17)",
            "gridcolor": "#506784",
            "gridwidth": 2,
            "linecolor": "#506784",
            "showbackground": true,
            "ticks": "",
            "zerolinecolor": "#C8D4E3"
           },
           "zaxis": {
            "backgroundcolor": "rgb(17,17,17)",
            "gridcolor": "#506784",
            "gridwidth": 2,
            "linecolor": "#506784",
            "showbackground": true,
            "ticks": "",
            "zerolinecolor": "#C8D4E3"
           }
          },
          "shapedefaults": {
           "line": {
            "color": "#f2f5fa"
           }
          },
          "sliderdefaults": {
           "bgcolor": "#C8D4E3",
           "bordercolor": "rgb(17,17,17)",
           "borderwidth": 1,
           "tickwidth": 0
          },
          "ternary": {
           "aaxis": {
            "gridcolor": "#506784",
            "linecolor": "#506784",
            "ticks": ""
           },
           "baxis": {
            "gridcolor": "#506784",
            "linecolor": "#506784",
            "ticks": ""
           },
           "bgcolor": "rgb(17,17,17)",
           "caxis": {
            "gridcolor": "#506784",
            "linecolor": "#506784",
            "ticks": ""
           }
          },
          "title": {
           "x": 0.05
          },
          "updatemenudefaults": {
           "bgcolor": "#506784",
           "borderwidth": 0
          },
          "xaxis": {
           "automargin": true,
           "gridcolor": "#283442",
           "linecolor": "#506784",
           "ticks": "",
           "title": {
            "standoff": 15
           },
           "zerolinecolor": "#283442",
           "zerolinewidth": 2
          },
          "yaxis": {
           "automargin": true,
           "gridcolor": "#283442",
           "linecolor": "#506784",
           "ticks": "",
           "title": {
            "standoff": 15
           },
           "zerolinecolor": "#283442",
           "zerolinewidth": 2
          }
         }
        }
       }
      }
     },
     "metadata": {},
     "output_type": "display_data"
    }
   ],
   "source": [
    "fig = px.treemap(proveedorPorCantidad.head(10), path=[\"Nombre\"], values=\"Cantidad\", hover_data=[\"Nombre\",\"Cantidad\"], \n",
    "                  color=\"Nombre\", \n",
    "                  template=\"plotly_dark\",\n",
    "                  labels={\"Nombre\":\"Cantidad\"})\n",
    "fig.show()"
   ]
  },
  {
   "cell_type": "markdown",
   "metadata": {},
   "source": [
    "## Análisis por Importe Devengado"
   ]
  },
  {
   "cell_type": "markdown",
   "metadata": {},
   "source": [
    "### 1. Importe Devengado por Jurisdicción"
   ]
  },
  {
   "cell_type": "code",
   "execution_count": 13,
   "metadata": {},
   "outputs": [
    {
     "data": {
      "text/html": [
       "<div>\n",
       "<style scoped>\n",
       "    .dataframe tbody tr th:only-of-type {\n",
       "        vertical-align: middle;\n",
       "    }\n",
       "\n",
       "    .dataframe tbody tr th {\n",
       "        vertical-align: top;\n",
       "    }\n",
       "\n",
       "    .dataframe thead th {\n",
       "        text-align: right;\n",
       "    }\n",
       "</style>\n",
       "<table border=\"1\" class=\"dataframe\">\n",
       "  <thead>\n",
       "    <tr style=\"text-align: right;\">\n",
       "      <th></th>\n",
       "      <th>Jurisdicción</th>\n",
       "      <th>Importe Devengado</th>\n",
       "    </tr>\n",
       "  </thead>\n",
       "  <tbody>\n",
       "    <tr>\n",
       "      <th>0</th>\n",
       "      <td>MINISTERIO DE EDUCACIÓN</td>\n",
       "      <td>2466732639</td>\n",
       "    </tr>\n",
       "    <tr>\n",
       "      <th>1</th>\n",
       "      <td>MINISTERIO DE SALUD</td>\n",
       "      <td>910072271</td>\n",
       "    </tr>\n",
       "    <tr>\n",
       "      <th>2</th>\n",
       "      <td>MINISTERIO DE CULTURA</td>\n",
       "      <td>419441052</td>\n",
       "    </tr>\n",
       "    <tr>\n",
       "      <th>3</th>\n",
       "      <td>MINISTERIO DE DESARROLLO HUMANO Y HÁBITAT</td>\n",
       "      <td>129975082</td>\n",
       "    </tr>\n",
       "    <tr>\n",
       "      <th>4</th>\n",
       "      <td>JEFATURA DE GOBIERNO</td>\n",
       "      <td>78733759</td>\n",
       "    </tr>\n",
       "    <tr>\n",
       "      <th>5</th>\n",
       "      <td>MINISTERIO DE HACIENDA y FINANZAS</td>\n",
       "      <td>61090239</td>\n",
       "    </tr>\n",
       "    <tr>\n",
       "      <th>6</th>\n",
       "      <td>JEFATURA DE GABINETE DE MINISTROS</td>\n",
       "      <td>60804713</td>\n",
       "    </tr>\n",
       "    <tr>\n",
       "      <th>7</th>\n",
       "      <td>MINISTERIO DE GOBIERNO</td>\n",
       "      <td>18391595</td>\n",
       "    </tr>\n",
       "    <tr>\n",
       "      <th>8</th>\n",
       "      <td>MINISTERIO DE ESPACIO PUBLICO E HIGIENE URBANA</td>\n",
       "      <td>11513730</td>\n",
       "    </tr>\n",
       "    <tr>\n",
       "      <th>9</th>\n",
       "      <td>MIN.DESA.ECON Y PROD</td>\n",
       "      <td>9256672</td>\n",
       "    </tr>\n",
       "    <tr>\n",
       "      <th>10</th>\n",
       "      <td>MINISTERIO DE JUSTICIA Y SEGURIDAD</td>\n",
       "      <td>8634078</td>\n",
       "    </tr>\n",
       "    <tr>\n",
       "      <th>11</th>\n",
       "      <td>MINISTERIO DE DESARROLLO URBANO Y TRANSPORTE</td>\n",
       "      <td>9626</td>\n",
       "    </tr>\n",
       "  </tbody>\n",
       "</table>\n",
       "</div>"
      ],
      "text/plain": [
       "                                      Jurisdicción Importe Devengado\n",
       "0                          MINISTERIO DE EDUCACIÓN        2466732639\n",
       "1                              MINISTERIO DE SALUD         910072271\n",
       "2                            MINISTERIO DE CULTURA         419441052\n",
       "3        MINISTERIO DE DESARROLLO HUMANO Y HÁBITAT         129975082\n",
       "4                             JEFATURA DE GOBIERNO          78733759\n",
       "5                MINISTERIO DE HACIENDA y FINANZAS          61090239\n",
       "6                JEFATURA DE GABINETE DE MINISTROS          60804713\n",
       "7                           MINISTERIO DE GOBIERNO          18391595\n",
       "8   MINISTERIO DE ESPACIO PUBLICO E HIGIENE URBANA          11513730\n",
       "9                             MIN.DESA.ECON Y PROD           9256672\n",
       "10              MINISTERIO DE JUSTICIA Y SEGURIDAD           8634078\n",
       "11    MINISTERIO DE DESARROLLO URBANO Y TRANSPORTE              9626"
      ]
     },
     "execution_count": 13,
     "metadata": {},
     "output_type": "execute_result"
    }
   ],
   "source": [
    "jurisdiccionPorMonto = df.groupby(['Jurisdicción'])['Importe Devengado'].sum().sort_values(ascending=False)\n",
    "jurisdiccionPorMonto.to_frame().reset_index(inplace=False)"
   ]
  },
  {
   "cell_type": "code",
   "execution_count": 14,
   "metadata": {},
   "outputs": [
    {
     "data": {
      "text/plain": [
       "<AxesSubplot: ylabel='Jurisdicción'>"
      ]
     },
     "execution_count": 14,
     "metadata": {},
     "output_type": "execute_result"
    },
    {
     "data": {
      "image/png": "[encoded data removed]",
      "text/plain": [
       "<Figure size 1000x500 with 1 Axes>"
      ]
     },
     "metadata": {},
     "output_type": "display_data"
    }
   ],
   "source": [
    "jurisdiccionPorMonto.head(10).plot(kind='barh', figsize=(10, 5), color='#66bf99', width=0.85)"
   ]
  },
  {
   "cell_type": "markdown",
   "metadata": {},
   "source": [
    "### 2. Importe Devengado por Proveedor"
   ]
  },
  {
   "cell_type": "code",
   "execution_count": 16,
   "metadata": {},
   "outputs": [
    {
     "data": {
      "text/html": [
       "<div>\n",
       "<style scoped>\n",
       "    .dataframe tbody tr th:only-of-type {\n",
       "        vertical-align: middle;\n",
       "    }\n",
       "\n",
       "    .dataframe tbody tr th {\n",
       "        vertical-align: top;\n",
       "    }\n",
       "\n",
       "    .dataframe thead th {\n",
       "        text-align: right;\n",
       "    }\n",
       "</style>\n",
       "<table border=\"1\" class=\"dataframe\">\n",
       "  <thead>\n",
       "    <tr style=\"text-align: right;\">\n",
       "      <th></th>\n",
       "      <th>Proveedor</th>\n",
       "      <th>Importe Devengado</th>\n",
       "    </tr>\n",
       "  </thead>\n",
       "  <tbody>\n",
       "    <tr>\n",
       "      <th>0</th>\n",
       "      <td>GABRIELA ISABEL GONZALEZ SUREDA</td>\n",
       "      <td>1839814404</td>\n",
       "    </tr>\n",
       "    <tr>\n",
       "      <th>1</th>\n",
       "      <td>UNIVERSIDAD NACIONAL DE CORDOBA</td>\n",
       "      <td>857401326</td>\n",
       "    </tr>\n",
       "    <tr>\n",
       "      <th>2</th>\n",
       "      <td>ASOCIACION COOPERADORA \"C.M.I.ALVAREZ THOMAS\"</td>\n",
       "      <td>130399490</td>\n",
       "    </tr>\n",
       "    <tr>\n",
       "      <th>3</th>\n",
       "      <td>ASOCIACIÓN COOPERADORA POR LA NIÑEZ</td>\n",
       "      <td>96991911</td>\n",
       "    </tr>\n",
       "    <tr>\n",
       "      <th>4</th>\n",
       "      <td>ASOCIACION COOPERADORA \"20 DE JUNIO\"</td>\n",
       "      <td>96267442</td>\n",
       "    </tr>\n",
       "    <tr>\n",
       "      <th>...</th>\n",
       "      <td>...</td>\n",
       "      <td>...</td>\n",
       "    </tr>\n",
       "    <tr>\n",
       "      <th>481</th>\n",
       "      <td>DE FILIPPI SEBASTIAN CARLOS</td>\n",
       "      <td>8000</td>\n",
       "    </tr>\n",
       "    <tr>\n",
       "      <th>482</th>\n",
       "      <td>ARRUE MARIA ALEJANDRA</td>\n",
       "      <td>7000</td>\n",
       "    </tr>\n",
       "    <tr>\n",
       "      <th>483</th>\n",
       "      <td>VAPORE PABLO NICOLAS</td>\n",
       "      <td>7000</td>\n",
       "    </tr>\n",
       "    <tr>\n",
       "      <th>484</th>\n",
       "      <td>ALONSO,ALFREDO JUAN</td>\n",
       "      <td>7000</td>\n",
       "    </tr>\n",
       "    <tr>\n",
       "      <th>485</th>\n",
       "      <td>CAPROTTI RODRIGO JAVIER</td>\n",
       "      <td>2303</td>\n",
       "    </tr>\n",
       "  </tbody>\n",
       "</table>\n",
       "<p>486 rows × 2 columns</p>\n",
       "</div>"
      ],
      "text/plain": [
       "                                         Proveedor Importe Devengado\n",
       "0                  GABRIELA ISABEL GONZALEZ SUREDA        1839814404\n",
       "1                  UNIVERSIDAD NACIONAL DE CORDOBA         857401326\n",
       "2    ASOCIACION COOPERADORA \"C.M.I.ALVAREZ THOMAS\"         130399490\n",
       "3              ASOCIACIÓN COOPERADORA POR LA NIÑEZ          96991911\n",
       "4             ASOCIACION COOPERADORA \"20 DE JUNIO\"          96267442\n",
       "..                                             ...               ...\n",
       "481                    DE FILIPPI SEBASTIAN CARLOS              8000\n",
       "482                          ARRUE MARIA ALEJANDRA              7000\n",
       "483                           VAPORE PABLO NICOLAS              7000\n",
       "484                            ALONSO,ALFREDO JUAN              7000\n",
       "485                        CAPROTTI RODRIGO JAVIER              2303\n",
       "\n",
       "[486 rows x 2 columns]"
      ]
     },
     "execution_count": 16,
     "metadata": {},
     "output_type": "execute_result"
    }
   ],
   "source": [
    "proveedorPorMonto = df.groupby(['Proveedor'])['Importe Devengado'].sum().sort_values(ascending=False)\n",
    "proveedorPorMonto.to_frame().reset_index(inplace=False)"
   ]
  },
  {
   "cell_type": "code",
   "execution_count": 17,
   "metadata": {},
   "outputs": [
    {
     "data": {
      "text/plain": [
       "<AxesSubplot: ylabel='Proveedor'>"
      ]
     },
     "execution_count": 17,
     "metadata": {},
     "output_type": "execute_result"
    },
    {
     "data": {
      "image/png": "[encoded data removed]",
      "text/plain": [
       "<Figure size 1000x500 with 1 Axes>"
      ]
     },
     "metadata": {},
     "output_type": "display_data"
    }
   ],
   "source": [
    "proveedorPorMonto.head(10).plot(kind='barh', figsize=(10, 5), color='#66bf99', width=0.85)"
   ]
  },
  {
   "cell_type": "markdown",
   "metadata": {},
   "source": [
    "## Análisis de Deuda Importe Pago"
   ]
  },
  {
   "cell_type": "markdown",
   "metadata": {},
   "source": [
    "### 1. Importe Pago por Jurisdicción"
   ]
  },
  {
   "cell_type": "code",
   "execution_count": 41,
   "metadata": {},
   "outputs": [
    {
     "data": {
      "text/html": [
       "<div>\n",
       "<style scoped>\n",
       "    .dataframe tbody tr th:only-of-type {\n",
       "        vertical-align: middle;\n",
       "    }\n",
       "\n",
       "    .dataframe tbody tr th {\n",
       "        vertical-align: top;\n",
       "    }\n",
       "\n",
       "    .dataframe thead th {\n",
       "        text-align: right;\n",
       "    }\n",
       "</style>\n",
       "<table border=\"1\" class=\"dataframe\">\n",
       "  <thead>\n",
       "    <tr style=\"text-align: right;\">\n",
       "      <th></th>\n",
       "      <th>Jurisdicción</th>\n",
       "      <th>Monto</th>\n",
       "    </tr>\n",
       "  </thead>\n",
       "  <tbody>\n",
       "    <tr>\n",
       "      <th>0</th>\n",
       "      <td>MINISTERIO DE EDUCACIÓN</td>\n",
       "      <td>2466732638</td>\n",
       "    </tr>\n",
       "    <tr>\n",
       "      <th>1</th>\n",
       "      <td>MINISTERIO DE SALUD</td>\n",
       "      <td>831837673</td>\n",
       "    </tr>\n",
       "    <tr>\n",
       "      <th>2</th>\n",
       "      <td>MINISTERIO DE CULTURA</td>\n",
       "      <td>406580909</td>\n",
       "    </tr>\n",
       "    <tr>\n",
       "      <th>3</th>\n",
       "      <td>MINISTERIO DE DESARROLLO HUMANO Y HÁBITAT</td>\n",
       "      <td>129975082</td>\n",
       "    </tr>\n",
       "    <tr>\n",
       "      <th>4</th>\n",
       "      <td>JEFATURA DE GOBIERNO</td>\n",
       "      <td>76241218</td>\n",
       "    </tr>\n",
       "    <tr>\n",
       "      <th>5</th>\n",
       "      <td>MINISTERIO DE HACIENDA y FINANZAS</td>\n",
       "      <td>61090239</td>\n",
       "    </tr>\n",
       "    <tr>\n",
       "      <th>6</th>\n",
       "      <td>JEFATURA DE GABINETE DE MINISTROS</td>\n",
       "      <td>60804713</td>\n",
       "    </tr>\n",
       "    <tr>\n",
       "      <th>7</th>\n",
       "      <td>MINISTERIO DE GOBIERNO</td>\n",
       "      <td>18391595</td>\n",
       "    </tr>\n",
       "    <tr>\n",
       "      <th>8</th>\n",
       "      <td>MINISTERIO DE ESPACIO PUBLICO E HIGIENE URBANA</td>\n",
       "      <td>11513730</td>\n",
       "    </tr>\n",
       "    <tr>\n",
       "      <th>9</th>\n",
       "      <td>MIN.DESA.ECON Y PROD</td>\n",
       "      <td>9256672</td>\n",
       "    </tr>\n",
       "  </tbody>\n",
       "</table>\n",
       "</div>"
      ],
      "text/plain": [
       "                                     Jurisdicción       Monto\n",
       "0                         MINISTERIO DE EDUCACIÓN  2466732638\n",
       "1                             MINISTERIO DE SALUD   831837673\n",
       "2                           MINISTERIO DE CULTURA   406580909\n",
       "3       MINISTERIO DE DESARROLLO HUMANO Y HÁBITAT   129975082\n",
       "4                            JEFATURA DE GOBIERNO    76241218\n",
       "5               MINISTERIO DE HACIENDA y FINANZAS    61090239\n",
       "6               JEFATURA DE GABINETE DE MINISTROS    60804713\n",
       "7                          MINISTERIO DE GOBIERNO    18391595\n",
       "8  MINISTERIO DE ESPACIO PUBLICO E HIGIENE URBANA    11513730\n",
       "9                            MIN.DESA.ECON Y PROD     9256672"
      ]
     },
     "execution_count": 41,
     "metadata": {},
     "output_type": "execute_result"
    }
   ],
   "source": [
    "jurisdiccionPorImportePago = df.groupby(['Jurisdicción'])['Importe Pago'].sum().sort_values(ascending=False)\n",
    "jurisdiccionPorImportePago = jurisdiccionPorImportePago.to_frame().reset_index(inplace=False)\n",
    "jurisdiccionPorImportePago.columns = ['Jurisdicción','Monto']\t\n",
    "jurisdiccionPorImportePago.head(10)"
   ]
  },
  {
   "cell_type": "code",
   "execution_count": 42,
   "metadata": {},
   "outputs": [
    {
     "data": {
      "application/vnd.plotly.v1+json": {
       "config": {
        "plotlyServerURL": "https://plot.ly"
       },
       "data": [
        {
         "branchvalues": "total",
         "customdata": [
          [
           "MINISTERIO DE ESPACIO PUBLICO E HIGIENE URBANA",
           11513730,
           "MINISTERIO DE ESPACIO PUBLICO E HIGIENE URBANA"
          ],
          [
           "MINISTERIO DE DESARROLLO HUMANO Y HÁBITAT",
           129975082,
           "MINISTERIO DE DESARROLLO HUMANO Y HÁBITAT"
          ],
          [
           "MINISTERIO DE SALUD",
           831837673,
           "MINISTERIO DE SALUD"
          ],
          [
           "MIN.DESA.ECON Y PROD",
           9256672,
           "MIN.DESA.ECON Y PROD"
          ],
          [
           "MINISTERIO DE CULTURA",
           406580909,
           "MINISTERIO DE CULTURA"
          ],
          [
           "JEFATURA DE GABINETE DE MINISTROS",
           60804713,
           "JEFATURA DE GABINETE DE MINISTROS"
          ],
          [
           "MINISTERIO DE HACIENDA y FINANZAS",
           61090239,
           "MINISTERIO DE HACIENDA y FINANZAS"
          ],
          [
           "MINISTERIO DE GOBIERNO",
           18391595,
           "MINISTERIO DE GOBIERNO"
          ],
          [
           "MINISTERIO DE EDUCACIÓN",
           2466732638,
           "MINISTERIO DE EDUCACIÓN"
          ],
          [
           "JEFATURA DE GOBIERNO",
           76241218,
           "JEFATURA DE GOBIERNO"
          ]
         ],
         "domain": {
          "x": [
           0,
           1
          ],
          "y": [
           0,
           1
          ]
         },
         "hovertemplate": "labels=%{label}<br>Monto=%{customdata[2]}<br>parent=%{parent}<br>id=%{id}<extra></extra>",
         "ids": [
          "MINISTERIO DE ESPACIO PUBLICO E HIGIENE URBANA",
          "MINISTERIO DE DESARROLLO HUMANO Y HÁBITAT",
          "MINISTERIO DE SALUD",
          "MIN.DESA.ECON Y PROD",
          "MINISTERIO DE CULTURA",
          "JEFATURA DE GABINETE DE MINISTROS",
          "MINISTERIO DE HACIENDA y FINANZAS",
          "MINISTERIO DE GOBIERNO",
          "MINISTERIO DE EDUCACIÓN",
          "JEFATURA DE GOBIERNO"
         ],
         "labels": [
          "MINISTERIO DE ESPACIO PUBLICO E HIGIENE URBANA",
          "MINISTERIO DE DESARROLLO HUMANO Y HÁBITAT",
          "MINISTERIO DE SALUD",
          "MIN.DESA.ECON Y PROD",
          "MINISTERIO DE CULTURA",
          "JEFATURA DE GABINETE DE MINISTROS",
          "MINISTERIO DE HACIENDA y FINANZAS",
          "MINISTERIO DE GOBIERNO",
          "MINISTERIO DE EDUCACIÓN",
          "JEFATURA DE GOBIERNO"
         ],
         "marker": {
          "colors": [
           "#636efa",
           "#EF553B",
           "#00cc96",
           "#ab63fa",
           "#FFA15A",
           "#19d3f3",
           "#FF6692",
           "#B6E880",
           "#FF97FF",
           "#FECB52"
          ]
         },
         "name": "",
         "parents": [
          "",
          "",
          "",
          "",
          "",
          "",
          "",
          "",
          "",
          ""
         ],
         "type": "treemap",
         "values": [
          11513730,
          129975082,
          831837673,
          9256672,
          406580909,
          60804713,
          61090239,
          18391595,
          2466732638,
          76241218
         ]
        }
       ],
       "layout": {
        "legend": {
         "tracegroupgap": 0
        },
        "margin": {
         "t": 60
        },
        "template": {
         "data": {
          "bar": [
           {
            "error_x": {
             "color": "#f2f5fa"
            },
            "error_y": {
             "color": "#f2f5fa"
            },
            "marker": {
             "line": {
              "color": "rgb(17,17,17)",
              "width": 0.5
             },
             "pattern": {
              "fillmode": "overlay",
              "size": 10,
              "solidity": 0.2
             }
            },
            "type": "bar"
           }
          ],
          "barpolar": [
           {
            "marker": {
             "line": {
              "color": "rgb(17,17,17)",
              "width": 0.5
             },
             "pattern": {
              "fillmode": "overlay",
              "size": 10,
              "solidity": 0.2
             }
            },
            "type": "barpolar"
           }
          ],
          "carpet": [
           {
            "aaxis": {
             "endlinecolor": "#A2B1C6",
             "gridcolor": "#506784",
             "linecolor": "#506784",
             "minorgridcolor": "#506784",
             "startlinecolor": "#A2B1C6"
            },
            "baxis": {
             "endlinecolor": "#A2B1C6",
             "gridcolor": "#506784",
             "linecolor": "#506784",
             "minorgridcolor": "#506784",
             "startlinecolor": "#A2B1C6"
            },
            "type": "carpet"
           }
          ],
          "choropleth": [
           {
            "colorbar": {
             "outlinewidth": 0,
             "ticks": ""
            },
            "type": "choropleth"
           }
          ],
          "contour": [
           {
            "colorbar": {
             "outlinewidth": 0,
             "ticks": ""
            },
            "colorscale": [
             [
              0,
              "#0d0887"
             ],
             [
              0.1111111111111111,
              "#46039f"
             ],
             [
              0.2222222222222222,
              "#7201a8"
             ],
             [
              0.3333333333333333,
              "#9c179e"
             ],
             [
              0.4444444444444444,
              "#bd3786"
             ],
             [
              0.5555555555555556,
              "#d8576b"
             ],
             [
              0.6666666666666666,
              "#ed7953"
             ],
             [
              0.7777777777777778,
              "#fb9f3a"
             ],
             [
              0.8888888888888888,
              "#fdca26"
             ],
             [
              1,
              "#f0f921"
             ]
            ],
            "type": "contour"
           }
          ],
          "contourcarpet": [
           {
            "colorbar": {
             "outlinewidth": 0,
             "ticks": ""
            },
            "type": "contourcarpet"
           }
          ],
          "heatmap": [
           {
            "colorbar": {
             "outlinewidth": 0,
             "ticks": ""
            },
            "colorscale": [
             [
              0,
              "#0d0887"
             ],
             [
              0.1111111111111111,
              "#46039f"
             ],
             [
              0.2222222222222222,
              "#7201a8"
             ],
             [
              0.3333333333333333,
              "#9c179e"
             ],
             [
              0.4444444444444444,
              "#bd3786"
             ],
             [
              0.5555555555555556,
              "#d8576b"
             ],
             [
              0.6666666666666666,
              "#ed7953"
             ],
             [
              0.7777777777777778,
              "#fb9f3a"
             ],
             [
              0.8888888888888888,
              "#fdca26"
             ],
             [
              1,
              "#f0f921"
             ]
            ],
            "type": "heatmap"
           }
          ],
          "heatmapgl": [
           {
            "colorbar": {
             "outlinewidth": 0,
             "ticks": ""
            },
            "colorscale": [
             [
              0,
              "#0d0887"
             ],
             [
              0.1111111111111111,
              "#46039f"
             ],
             [
              0.2222222222222222,
              "#7201a8"
             ],
             [
              0.3333333333333333,
              "#9c179e"
             ],
             [
              0.4444444444444444,
              "#bd3786"
             ],
             [
              0.5555555555555556,
              "#d8576b"
             ],
             [
              0.6666666666666666,
              "#ed7953"
             ],
             [
              0.7777777777777778,
              "#fb9f3a"
             ],
             [
              0.8888888888888888,
              "#fdca26"
             ],
             [
              1,
              "#f0f921"
             ]
            ],
            "type": "heatmapgl"
           }
          ],
          "histogram": [
           {
            "marker": {
             "pattern": {
              "fillmode": "overlay",
              "size": 10,
              "solidity": 0.2
             }
            },
            "type": "histogram"
           }
          ],
          "histogram2d": [
           {
            "colorbar": {
             "outlinewidth": 0,
             "ticks": ""
            },
            "colorscale": [
             [
              0,
              "#0d0887"
             ],
             [
              0.1111111111111111,
              "#46039f"
             ],
             [
              0.2222222222222222,
              "#7201a8"
             ],
             [
              0.3333333333333333,
              "#9c179e"
             ],
             [
              0.4444444444444444,
              "#bd3786"
             ],
             [
              0.5555555555555556,
              "#d8576b"
             ],
             [
              0.6666666666666666,
              "#ed7953"
             ],
             [
              0.7777777777777778,
              "#fb9f3a"
             ],
             [
              0.8888888888888888,
              "#fdca26"
             ],
             [
              1,
              "#f0f921"
             ]
            ],
            "type": "histogram2d"
           }
          ],
          "histogram2dcontour": [
           {
            "colorbar": {
             "outlinewidth": 0,
             "ticks": ""
            },
            "colorscale": [
             [
              0,
              "#0d0887"
             ],
             [
              0.1111111111111111,
              "#46039f"
             ],
             [
              0.2222222222222222,
              "#7201a8"
             ],
             [
              0.3333333333333333,
              "#9c179e"
             ],
             [
              0.4444444444444444,
              "#bd3786"
             ],
             [
              0.5555555555555556,
              "#d8576b"
             ],
             [
              0.6666666666666666,
              "#ed7953"
             ],
             [
              0.7777777777777778,
              "#fb9f3a"
             ],
             [
              0.8888888888888888,
              "#fdca26"
             ],
             [
              1,
              "#f0f921"
             ]
            ],
            "type": "histogram2dcontour"
           }
          ],
          "mesh3d": [
           {
            "colorbar": {
             "outlinewidth": 0,
             "ticks": ""
            },
            "type": "mesh3d"
           }
          ],
          "parcoords": [
           {
            "line": {
             "colorbar": {
              "outlinewidth": 0,
              "ticks": ""
             }
            },
            "type": "parcoords"
           }
          ],
          "pie": [
           {
            "automargin": true,
            "type": "pie"
           }
          ],
          "scatter": [
           {
            "marker": {
             "line": {
              "color": "#283442"
             }
            },
            "type": "scatter"
           }
          ],
          "scatter3d": [
           {
            "line": {
             "colorbar": {
              "outlinewidth": 0,
              "ticks": ""
             }
            },
            "marker": {
             "colorbar": {
              "outlinewidth": 0,
              "ticks": ""
             }
            },
            "type": "scatter3d"
           }
          ],
          "scattercarpet": [
           {
            "marker": {
             "colorbar": {
              "outlinewidth": 0,
              "ticks": ""
             }
            },
            "type": "scattercarpet"
           }
          ],
          "scattergeo": [
           {
            "marker": {
             "colorbar": {
              "outlinewidth": 0,
              "ticks": ""
             }
            },
            "type": "scattergeo"
           }
          ],
          "scattergl": [
           {
            "marker": {
             "line": {
              "color": "#283442"
             }
            },
            "type": "scattergl"
           }
          ],
          "scattermapbox": [
           {
            "marker": {
             "colorbar": {
              "outlinewidth": 0,
              "ticks": ""
             }
            },
            "type": "scattermapbox"
           }
          ],
          "scatterpolar": [
           {
            "marker": {
             "colorbar": {
              "outlinewidth": 0,
              "ticks": ""
             }
            },
            "type": "scatterpolar"
           }
          ],
          "scatterpolargl": [
           {
            "marker": {
             "colorbar": {
              "outlinewidth": 0,
              "ticks": ""
             }
            },
            "type": "scatterpolargl"
           }
          ],
          "scatterternary": [
           {
            "marker": {
             "colorbar": {
              "outlinewidth": 0,
              "ticks": ""
             }
            },
            "type": "scatterternary"
           }
          ],
          "surface": [
           {
            "colorbar": {
             "outlinewidth": 0,
             "ticks": ""
            },
            "colorscale": [
             [
              0,
              "#0d0887"
             ],
             [
              0.1111111111111111,
              "#46039f"
             ],
             [
              0.2222222222222222,
              "#7201a8"
             ],
             [
              0.3333333333333333,
              "#9c179e"
             ],
             [
              0.4444444444444444,
              "#bd3786"
             ],
             [
              0.5555555555555556,
              "#d8576b"
             ],
             [
              0.6666666666666666,
              "#ed7953"
             ],
             [
              0.7777777777777778,
              "#fb9f3a"
             ],
             [
              0.8888888888888888,
              "#fdca26"
             ],
             [
              1,
              "#f0f921"
             ]
            ],
            "type": "surface"
           }
          ],
          "table": [
           {
            "cells": {
             "fill": {
              "color": "#506784"
             },
             "line": {
              "color": "rgb(17,17,17)"
             }
            },
            "header": {
             "fill": {
              "color": "#2a3f5f"
             },
             "line": {
              "color": "rgb(17,17,17)"
             }
            },
            "type": "table"
           }
          ]
         },
         "layout": {
          "annotationdefaults": {
           "arrowcolor": "#f2f5fa",
           "arrowhead": 0,
           "arrowwidth": 1
          },
          "autotypenumbers": "strict",
          "coloraxis": {
           "colorbar": {
            "outlinewidth": 0,
            "ticks": ""
           }
          },
          "colorscale": {
           "diverging": [
            [
             0,
             "#8e0152"
            ],
            [
             0.1,
             "#c51b7d"
            ],
            [
             0.2,
             "#de77ae"
            ],
            [
             0.3,
             "#f1b6da"
            ],
            [
             0.4,
             "#fde0ef"
            ],
            [
             0.5,
             "#f7f7f7"
            ],
            [
             0.6,
             "#e6f5d0"
            ],
            [
             0.7,
             "#b8e186"
            ],
            [
             0.8,
             "#7fbc41"
            ],
            [
             0.9,
             "#4d9221"
            ],
            [
             1,
             "#276419"
            ]
           ],
           "sequential": [
            [
             0,
             "#0d0887"
            ],
            [
             0.1111111111111111,
             "#46039f"
            ],
            [
             0.2222222222222222,
             "#7201a8"
            ],
            [
             0.3333333333333333,
             "#9c179e"
            ],
            [
             0.4444444444444444,
             "#bd3786"
            ],
            [
             0.5555555555555556,
             "#d8576b"
            ],
            [
             0.6666666666666666,
             "#ed7953"
            ],
            [
             0.7777777777777778,
             "#fb9f3a"
            ],
            [
             0.8888888888888888,
             "#fdca26"
            ],
            [
             1,
             "#f0f921"
            ]
           ],
           "sequentialminus": [
            [
             0,
             "#0d0887"
            ],
            [
             0.1111111111111111,
             "#46039f"
            ],
            [
             0.2222222222222222,
             "#7201a8"
            ],
            [
             0.3333333333333333,
             "#9c179e"
            ],
            [
             0.4444444444444444,
             "#bd3786"
            ],
            [
             0.5555555555555556,
             "#d8576b"
            ],
            [
             0.6666666666666666,
             "#ed7953"
            ],
            [
             0.7777777777777778,
             "#fb9f3a"
            ],
            [
             0.8888888888888888,
             "#fdca26"
            ],
            [
             1,
             "#f0f921"
            ]
           ]
          },
          "colorway": [
           "#636efa",
           "#EF553B",
           "#00cc96",
           "#ab63fa",
           "#FFA15A",
           "#19d3f3",
           "#FF6692",
           "#B6E880",
           "#FF97FF",
           "#FECB52"
          ],
          "font": {
           "color": "#f2f5fa"
          },
          "geo": {
           "bgcolor": "rgb(17,17,17)",
           "lakecolor": "rgb(17,17,17)",
           "landcolor": "rgb(17,17,17)",
           "showlakes": true,
           "showland": true,
           "subunitcolor": "#506784"
          },
          "hoverlabel": {
           "align": "left"
          },
          "hovermode": "closest",
          "mapbox": {
           "style": "dark"
          },
          "paper_bgcolor": "rgb(17,17,17)",
          "plot_bgcolor": "rgb(17,17,17)",
          "polar": {
           "angularaxis": {
            "gridcolor": "#506784",
            "linecolor": "#506784",
            "ticks": ""
           },
           "bgcolor": "rgb(17,17,17)",
           "radialaxis": {
            "gridcolor": "#506784",
            "linecolor": "#506784",
            "ticks": ""
           }
          },
          "scene": {
           "xaxis": {
            "backgroundcolor": "rgb(17,17,17)",
            "gridcolor": "#506784",
            "gridwidth": 2,
            "linecolor": "#506784",
            "showbackground": true,
            "ticks": "",
            "zerolinecolor": "#C8D4E3"
           },
           "yaxis": {
            "backgroundcolor": "rgb(17,17,17)",
            "gridcolor": "#506784",
            "gridwidth": 2,
            "linecolor": "#506784",
            "showbackground": true,
            "ticks": "",
            "zerolinecolor": "#C8D4E3"
           },
           "zaxis": {
            "backgroundcolor": "rgb(17,17,17)",
            "gridcolor": "#506784",
            "gridwidth": 2,
            "linecolor": "#506784",
            "showbackground": true,
            "ticks": "",
            "zerolinecolor": "#C8D4E3"
           }
          },
          "shapedefaults": {
           "line": {
            "color": "#f2f5fa"
           }
          },
          "sliderdefaults": {
           "bgcolor": "#C8D4E3",
           "bordercolor": "rgb(17,17,17)",
           "borderwidth": 1,
           "tickwidth": 0
          },
          "ternary": {
           "aaxis": {
            "gridcolor": "#506784",
            "linecolor": "#506784",
            "ticks": ""
           },
           "baxis": {
            "gridcolor": "#506784",
            "linecolor": "#506784",
            "ticks": ""
           },
           "bgcolor": "rgb(17,17,17)",
           "caxis": {
            "gridcolor": "#506784",
            "linecolor": "#506784",
            "ticks": ""
           }
          },
          "title": {
           "x": 0.05
          },
          "updatemenudefaults": {
           "bgcolor": "#506784",
           "borderwidth": 0
          },
          "xaxis": {
           "automargin": true,
           "gridcolor": "#283442",
           "linecolor": "#506784",
           "ticks": "",
           "title": {
            "standoff": 15
           },
           "zerolinecolor": "#283442",
           "zerolinewidth": 2
          },
          "yaxis": {
           "automargin": true,
           "gridcolor": "#283442",
           "linecolor": "#506784",
           "ticks": "",
           "title": {
            "standoff": 15
           },
           "zerolinecolor": "#283442",
           "zerolinewidth": 2
          }
         }
        }
       }
      }
     },
     "metadata": {},
     "output_type": "display_data"
    }
   ],
   "source": [
    "fig = px.treemap(jurisdiccionPorImportePago.head(10), path=[\"Jurisdicción\"], values=\"Monto\", hover_data=[\"Jurisdicción\",\"Monto\"], \n",
    "                  color=\"Jurisdicción\", \n",
    "                  template=\"plotly_dark\",\n",
    "                  labels={\"Jurisdicción\":\"Monto\"})\n",
    "fig.show()"
   ]
  },
  {
   "cell_type": "markdown",
   "metadata": {},
   "source": [
    "### 2. Deuda a la fecha de corte por Proveedor"
   ]
  },
  {
   "cell_type": "code",
   "execution_count": 45,
   "metadata": {},
   "outputs": [
    {
     "data": {
      "text/html": [
       "<div>\n",
       "<style scoped>\n",
       "    .dataframe tbody tr th:only-of-type {\n",
       "        vertical-align: middle;\n",
       "    }\n",
       "\n",
       "    .dataframe tbody tr th {\n",
       "        vertical-align: top;\n",
       "    }\n",
       "\n",
       "    .dataframe thead th {\n",
       "        text-align: right;\n",
       "    }\n",
       "</style>\n",
       "<table border=\"1\" class=\"dataframe\">\n",
       "  <thead>\n",
       "    <tr style=\"text-align: right;\">\n",
       "      <th></th>\n",
       "      <th>Proveedor</th>\n",
       "      <th>Monto</th>\n",
       "    </tr>\n",
       "  </thead>\n",
       "  <tbody>\n",
       "    <tr>\n",
       "      <th>0</th>\n",
       "      <td>MINISTERIO DE EDUCACIÓN</td>\n",
       "      <td>2466732638</td>\n",
       "    </tr>\n",
       "    <tr>\n",
       "      <th>1</th>\n",
       "      <td>MINISTERIO DE SALUD</td>\n",
       "      <td>831837673</td>\n",
       "    </tr>\n",
       "    <tr>\n",
       "      <th>2</th>\n",
       "      <td>MINISTERIO DE CULTURA</td>\n",
       "      <td>406580909</td>\n",
       "    </tr>\n",
       "    <tr>\n",
       "      <th>3</th>\n",
       "      <td>MINISTERIO DE DESARROLLO HUMANO Y HÁBITAT</td>\n",
       "      <td>129975082</td>\n",
       "    </tr>\n",
       "    <tr>\n",
       "      <th>4</th>\n",
       "      <td>JEFATURA DE GOBIERNO</td>\n",
       "      <td>76241218</td>\n",
       "    </tr>\n",
       "    <tr>\n",
       "      <th>5</th>\n",
       "      <td>MINISTERIO DE HACIENDA y FINANZAS</td>\n",
       "      <td>61090239</td>\n",
       "    </tr>\n",
       "    <tr>\n",
       "      <th>6</th>\n",
       "      <td>JEFATURA DE GABINETE DE MINISTROS</td>\n",
       "      <td>60804713</td>\n",
       "    </tr>\n",
       "    <tr>\n",
       "      <th>7</th>\n",
       "      <td>MINISTERIO DE GOBIERNO</td>\n",
       "      <td>18391595</td>\n",
       "    </tr>\n",
       "    <tr>\n",
       "      <th>8</th>\n",
       "      <td>MINISTERIO DE ESPACIO PUBLICO E HIGIENE URBANA</td>\n",
       "      <td>11513730</td>\n",
       "    </tr>\n",
       "    <tr>\n",
       "      <th>9</th>\n",
       "      <td>MIN.DESA.ECON Y PROD</td>\n",
       "      <td>9256672</td>\n",
       "    </tr>\n",
       "  </tbody>\n",
       "</table>\n",
       "</div>"
      ],
      "text/plain": [
       "                                        Proveedor       Monto\n",
       "0                         MINISTERIO DE EDUCACIÓN  2466732638\n",
       "1                             MINISTERIO DE SALUD   831837673\n",
       "2                           MINISTERIO DE CULTURA   406580909\n",
       "3       MINISTERIO DE DESARROLLO HUMANO Y HÁBITAT   129975082\n",
       "4                            JEFATURA DE GOBIERNO    76241218\n",
       "5               MINISTERIO DE HACIENDA y FINANZAS    61090239\n",
       "6               JEFATURA DE GABINETE DE MINISTROS    60804713\n",
       "7                          MINISTERIO DE GOBIERNO    18391595\n",
       "8  MINISTERIO DE ESPACIO PUBLICO E HIGIENE URBANA    11513730\n",
       "9                            MIN.DESA.ECON Y PROD     9256672"
      ]
     },
     "execution_count": 45,
     "metadata": {},
     "output_type": "execute_result"
    }
   ],
   "source": [
    "proveedornPorImportePago = df.groupby(['Jurisdicción'])['Importe Pago'].sum().sort_values(ascending=False)\n",
    "proveedornPorImportePago = proveedornPorImportePago.to_frame().reset_index(inplace=False)\n",
    "proveedornPorImportePago.columns = ['Proveedor','Monto']\t\n",
    "proveedornPorImportePago.head(10)"
   ]
  },
  {
   "cell_type": "code",
   "execution_count": 47,
   "metadata": {},
   "outputs": [
    {
     "data": {
      "application/vnd.plotly.v1+json": {
       "config": {
        "plotlyServerURL": "https://plot.ly"
       },
       "data": [
        {
         "branchvalues": "total",
         "customdata": [
          [
           "MINISTERIO DE ESPACIO PUBLICO E HIGIENE URBANA",
           11513730,
           "MINISTERIO DE ESPACIO PUBLICO E HIGIENE URBANA"
          ],
          [
           "MINISTERIO DE DESARROLLO HUMANO Y HÁBITAT",
           129975082,
           "MINISTERIO DE DESARROLLO HUMANO Y HÁBITAT"
          ],
          [
           "MINISTERIO DE SALUD",
           831837673,
           "MINISTERIO DE SALUD"
          ],
          [
           "MIN.DESA.ECON Y PROD",
           9256672,
           "MIN.DESA.ECON Y PROD"
          ],
          [
           "MINISTERIO DE CULTURA",
           406580909,
           "MINISTERIO DE CULTURA"
          ],
          [
           "JEFATURA DE GABINETE DE MINISTROS",
           60804713,
           "JEFATURA DE GABINETE DE MINISTROS"
          ],
          [
           "MINISTERIO DE HACIENDA y FINANZAS",
           61090239,
           "MINISTERIO DE HACIENDA y FINANZAS"
          ],
          [
           "MINISTERIO DE GOBIERNO",
           18391595,
           "MINISTERIO DE GOBIERNO"
          ],
          [
           "MINISTERIO DE EDUCACIÓN",
           2466732638,
           "MINISTERIO DE EDUCACIÓN"
          ],
          [
           "JEFATURA DE GOBIERNO",
           76241218,
           "JEFATURA DE GOBIERNO"
          ]
         ],
         "domain": {
          "x": [
           0,
           1
          ],
          "y": [
           0,
           1
          ]
         },
         "hovertemplate": "labels=%{label}<br>Monto=%{customdata[2]}<br>parent=%{parent}<br>id=%{id}<extra></extra>",
         "ids": [
          "MINISTERIO DE ESPACIO PUBLICO E HIGIENE URBANA",
          "MINISTERIO DE DESARROLLO HUMANO Y HÁBITAT",
          "MINISTERIO DE SALUD",
          "MIN.DESA.ECON Y PROD",
          "MINISTERIO DE CULTURA",
          "JEFATURA DE GABINETE DE MINISTROS",
          "MINISTERIO DE HACIENDA y FINANZAS",
          "MINISTERIO DE GOBIERNO",
          "MINISTERIO DE EDUCACIÓN",
          "JEFATURA DE GOBIERNO"
         ],
         "labels": [
          "MINISTERIO DE ESPACIO PUBLICO E HIGIENE URBANA",
          "MINISTERIO DE DESARROLLO HUMANO Y HÁBITAT",
          "MINISTERIO DE SALUD",
          "MIN.DESA.ECON Y PROD",
          "MINISTERIO DE CULTURA",
          "JEFATURA DE GABINETE DE MINISTROS",
          "MINISTERIO DE HACIENDA y FINANZAS",
          "MINISTERIO DE GOBIERNO",
          "MINISTERIO DE EDUCACIÓN",
          "JEFATURA DE GOBIERNO"
         ],
         "marker": {
          "colors": [
           "#636efa",
           "#EF553B",
           "#00cc96",
           "#ab63fa",
           "#FFA15A",
           "#19d3f3",
           "#FF6692",
           "#B6E880",
           "#FF97FF",
           "#FECB52"
          ]
         },
         "name": "",
         "parents": [
          "",
          "",
          "",
          "",
          "",
          "",
          "",
          "",
          "",
          ""
         ],
         "type": "treemap",
         "values": [
          11513730,
          129975082,
          831837673,
          9256672,
          406580909,
          60804713,
          61090239,
          18391595,
          2466732638,
          76241218
         ]
        }
       ],
       "layout": {
        "legend": {
         "tracegroupgap": 0
        },
        "margin": {
         "t": 60
        },
        "template": {
         "data": {
          "bar": [
           {
            "error_x": {
             "color": "#f2f5fa"
            },
            "error_y": {
             "color": "#f2f5fa"
            },
            "marker": {
             "line": {
              "color": "rgb(17,17,17)",
              "width": 0.5
             },
             "pattern": {
              "fillmode": "overlay",
              "size": 10,
              "solidity": 0.2
             }
            },
            "type": "bar"
           }
          ],
          "barpolar": [
           {
            "marker": {
             "line": {
              "color": "rgb(17,17,17)",
              "width": 0.5
             },
             "pattern": {
              "fillmode": "overlay",
              "size": 10,
              "solidity": 0.2
             }
            },
            "type": "barpolar"
           }
          ],
          "carpet": [
           {
            "aaxis": {
             "endlinecolor": "#A2B1C6",
             "gridcolor": "#506784",
             "linecolor": "#506784",
             "minorgridcolor": "#506784",
             "startlinecolor": "#A2B1C6"
            },
            "baxis": {
             "endlinecolor": "#A2B1C6",
             "gridcolor": "#506784",
             "linecolor": "#506784",
             "minorgridcolor": "#506784",
             "startlinecolor": "#A2B1C6"
            },
            "type": "carpet"
           }
          ],
          "choropleth": [
           {
            "colorbar": {
             "outlinewidth": 0,
             "ticks": ""
            },
            "type": "choropleth"
           }
          ],
          "contour": [
           {
            "colorbar": {
             "outlinewidth": 0,
             "ticks": ""
            },
            "colorscale": [
             [
              0,
              "#0d0887"
             ],
             [
              0.1111111111111111,
              "#46039f"
             ],
             [
              0.2222222222222222,
              "#7201a8"
             ],
             [
              0.3333333333333333,
              "#9c179e"
             ],
             [
              0.4444444444444444,
              "#bd3786"
             ],
             [
              0.5555555555555556,
              "#d8576b"
             ],
             [
              0.6666666666666666,
              "#ed7953"
             ],
             [
              0.7777777777777778,
              "#fb9f3a"
             ],
             [
              0.8888888888888888,
              "#fdca26"
             ],
             [
              1,
              "#f0f921"
             ]
            ],
            "type": "contour"
           }
          ],
          "contourcarpet": [
           {
            "colorbar": {
             "outlinewidth": 0,
             "ticks": ""
            },
            "type": "contourcarpet"
           }
          ],
          "heatmap": [
           {
            "colorbar": {
             "outlinewidth": 0,
             "ticks": ""
            },
            "colorscale": [
             [
              0,
              "#0d0887"
             ],
             [
              0.1111111111111111,
              "#46039f"
             ],
             [
              0.2222222222222222,
              "#7201a8"
             ],
             [
              0.3333333333333333,
              "#9c179e"
             ],
             [
              0.4444444444444444,
              "#bd3786"
             ],
             [
              0.5555555555555556,
              "#d8576b"
             ],
             [
              0.6666666666666666,
              "#ed7953"
             ],
             [
              0.7777777777777778,
              "#fb9f3a"
             ],
             [
              0.8888888888888888,
              "#fdca26"
             ],
             [
              1,
              "#f0f921"
             ]
            ],
            "type": "heatmap"
           }
          ],
          "heatmapgl": [
           {
            "colorbar": {
             "outlinewidth": 0,
             "ticks": ""
            },
            "colorscale": [
             [
              0,
              "#0d0887"
             ],
             [
              0.1111111111111111,
              "#46039f"
             ],
             [
              0.2222222222222222,
              "#7201a8"
             ],
             [
              0.3333333333333333,
              "#9c179e"
             ],
             [
              0.4444444444444444,
              "#bd3786"
             ],
             [
              0.5555555555555556,
              "#d8576b"
             ],
             [
              0.6666666666666666,
              "#ed7953"
             ],
             [
              0.7777777777777778,
              "#fb9f3a"
             ],
             [
              0.8888888888888888,
              "#fdca26"
             ],
             [
              1,
              "#f0f921"
             ]
            ],
            "type": "heatmapgl"
           }
          ],
          "histogram": [
           {
            "marker": {
             "pattern": {
              "fillmode": "overlay",
              "size": 10,
              "solidity": 0.2
             }
            },
            "type": "histogram"
           }
          ],
          "histogram2d": [
           {
            "colorbar": {
             "outlinewidth": 0,
             "ticks": ""
            },
            "colorscale": [
             [
              0,
              "#0d0887"
             ],
             [
              0.1111111111111111,
              "#46039f"
             ],
             [
              0.2222222222222222,
              "#7201a8"
             ],
             [
              0.3333333333333333,
              "#9c179e"
             ],
             [
              0.4444444444444444,
              "#bd3786"
             ],
             [
              0.5555555555555556,
              "#d8576b"
             ],
             [
              0.6666666666666666,
              "#ed7953"
             ],
             [
              0.7777777777777778,
              "#fb9f3a"
             ],
             [
              0.8888888888888888,
              "#fdca26"
             ],
             [
              1,
              "#f0f921"
             ]
            ],
            "type": "histogram2d"
           }
          ],
          "histogram2dcontour": [
           {
            "colorbar": {
             "outlinewidth": 0,
             "ticks": ""
            },
            "colorscale": [
             [
              0,
              "#0d0887"
             ],
             [
              0.1111111111111111,
              "#46039f"
             ],
             [
              0.2222222222222222,
              "#7201a8"
             ],
             [
              0.3333333333333333,
              "#9c179e"
             ],
             [
              0.4444444444444444,
              "#bd3786"
             ],
             [
              0.5555555555555556,
              "#d8576b"
             ],
             [
              0.6666666666666666,
              "#ed7953"
             ],
             [
              0.7777777777777778,
              "#fb9f3a"
             ],
             [
              0.8888888888888888,
              "#fdca26"
             ],
             [
              1,
              "#f0f921"
             ]
            ],
            "type": "histogram2dcontour"
           }
          ],
          "mesh3d": [
           {
            "colorbar": {
             "outlinewidth": 0,
             "ticks": ""
            },
            "type": "mesh3d"
           }
          ],
          "parcoords": [
           {
            "line": {
             "colorbar": {
              "outlinewidth": 0,
              "ticks": ""
             }
            },
            "type": "parcoords"
           }
          ],
          "pie": [
           {
            "automargin": true,
            "type": "pie"
           }
          ],
          "scatter": [
           {
            "marker": {
             "line": {
              "color": "#283442"
             }
            },
            "type": "scatter"
           }
          ],
          "scatter3d": [
           {
            "line": {
             "colorbar": {
              "outlinewidth": 0,
              "ticks": ""
             }
            },
            "marker": {
             "colorbar": {
              "outlinewidth": 0,
              "ticks": ""
             }
            },
            "type": "scatter3d"
           }
          ],
          "scattercarpet": [
           {
            "marker": {
             "colorbar": {
              "outlinewidth": 0,
              "ticks": ""
             }
            },
            "type": "scattercarpet"
           }
          ],
          "scattergeo": [
           {
            "marker": {
             "colorbar": {
              "outlinewidth": 0,
              "ticks": ""
             }
            },
            "type": "scattergeo"
           }
          ],
          "scattergl": [
           {
            "marker": {
             "line": {
              "color": "#283442"
             }
            },
            "type": "scattergl"
           }
          ],
          "scattermapbox": [
           {
            "marker": {
             "colorbar": {
              "outlinewidth": 0,
              "ticks": ""
             }
            },
            "type": "scattermapbox"
           }
          ],
          "scatterpolar": [
           {
            "marker": {
             "colorbar": {
              "outlinewidth": 0,
              "ticks": ""
             }
            },
            "type": "scatterpolar"
           }
          ],
          "scatterpolargl": [
           {
            "marker": {
             "colorbar": {
              "outlinewidth": 0,
              "ticks": ""
             }
            },
            "type": "scatterpolargl"
           }
          ],
          "scatterternary": [
           {
            "marker": {
             "colorbar": {
              "outlinewidth": 0,
              "ticks": ""
             }
            },
            "type": "scatterternary"
           }
          ],
          "surface": [
           {
            "colorbar": {
             "outlinewidth": 0,
             "ticks": ""
            },
            "colorscale": [
             [
              0,
              "#0d0887"
             ],
             [
              0.1111111111111111,
              "#46039f"
             ],
             [
              0.2222222222222222,
              "#7201a8"
             ],
             [
              0.3333333333333333,
              "#9c179e"
             ],
             [
              0.4444444444444444,
              "#bd3786"
             ],
             [
              0.5555555555555556,
              "#d8576b"
             ],
             [
              0.6666666666666666,
              "#ed7953"
             ],
             [
              0.7777777777777778,
              "#fb9f3a"
             ],
             [
              0.8888888888888888,
              "#fdca26"
             ],
             [
              1,
              "#f0f921"
             ]
            ],
            "type": "surface"
           }
          ],
          "table": [
           {
            "cells": {
             "fill": {
              "color": "#506784"
             },
             "line": {
              "color": "rgb(17,17,17)"
             }
            },
            "header": {
             "fill": {
              "color": "#2a3f5f"
             },
             "line": {
              "color": "rgb(17,17,17)"
             }
            },
            "type": "table"
           }
          ]
         },
         "layout": {
          "annotationdefaults": {
           "arrowcolor": "#f2f5fa",
           "arrowhead": 0,
           "arrowwidth": 1
          },
          "autotypenumbers": "strict",
          "coloraxis": {
           "colorbar": {
            "outlinewidth": 0,
            "ticks": ""
           }
          },
          "colorscale": {
           "diverging": [
            [
             0,
             "#8e0152"
            ],
            [
             0.1,
             "#c51b7d"
            ],
            [
             0.2,
             "#de77ae"
            ],
            [
             0.3,
             "#f1b6da"
            ],
            [
             0.4,
             "#fde0ef"
            ],
            [
             0.5,
             "#f7f7f7"
            ],
            [
             0.6,
             "#e6f5d0"
            ],
            [
             0.7,
             "#b8e186"
            ],
            [
             0.8,
             "#7fbc41"
            ],
            [
             0.9,
             "#4d9221"
            ],
            [
             1,
             "#276419"
            ]
           ],
           "sequential": [
            [
             0,
             "#0d0887"
            ],
            [
             0.1111111111111111,
             "#46039f"
            ],
            [
             0.2222222222222222,
             "#7201a8"
            ],
            [
             0.3333333333333333,
             "#9c179e"
            ],
            [
             0.4444444444444444,
             "#bd3786"
            ],
            [
             0.5555555555555556,
             "#d8576b"
            ],
            [
             0.6666666666666666,
             "#ed7953"
            ],
            [
             0.7777777777777778,
             "#fb9f3a"
            ],
            [
             0.8888888888888888,
             "#fdca26"
            ],
            [
             1,
             "#f0f921"
            ]
           ],
           "sequentialminus": [
            [
             0,
             "#0d0887"
            ],
            [
             0.1111111111111111,
             "#46039f"
            ],
            [
             0.2222222222222222,
             "#7201a8"
            ],
            [
             0.3333333333333333,
             "#9c179e"
            ],
            [
             0.4444444444444444,
             "#bd3786"
            ],
            [
             0.5555555555555556,
             "#d8576b"
            ],
            [
             0.6666666666666666,
             "#ed7953"
            ],
            [
             0.7777777777777778,
             "#fb9f3a"
            ],
            [
             0.8888888888888888,
             "#fdca26"
            ],
            [
             1,
             "#f0f921"
            ]
           ]
          },
          "colorway": [
           "#636efa",
           "#EF553B",
           "#00cc96",
           "#ab63fa",
           "#FFA15A",
           "#19d3f3",
           "#FF6692",
           "#B6E880",
           "#FF97FF",
           "#FECB52"
          ],
          "font": {
           "color": "#f2f5fa"
          },
          "geo": {
           "bgcolor": "rgb(17,17,17)",
           "lakecolor": "rgb(17,17,17)",
           "landcolor": "rgb(17,17,17)",
           "showlakes": true,
           "showland": true,
           "subunitcolor": "#506784"
          },
          "hoverlabel": {
           "align": "left"
          },
          "hovermode": "closest",
          "mapbox": {
           "style": "dark"
          },
          "paper_bgcolor": "rgb(17,17,17)",
          "plot_bgcolor": "rgb(17,17,17)",
          "polar": {
           "angularaxis": {
            "gridcolor": "#506784",
            "linecolor": "#506784",
            "ticks": ""
           },
           "bgcolor": "rgb(17,17,17)",
           "radialaxis": {
            "gridcolor": "#506784",
            "linecolor": "#506784",
            "ticks": ""
           }
          },
          "scene": {
           "xaxis": {
            "backgroundcolor": "rgb(17,17,17)",
            "gridcolor": "#506784",
            "gridwidth": 2,
            "linecolor": "#506784",
            "showbackground": true,
            "ticks": "",
            "zerolinecolor": "#C8D4E3"
           },
           "yaxis": {
            "backgroundcolor": "rgb(17,17,17)",
            "gridcolor": "#506784",
            "gridwidth": 2,
            "linecolor": "#506784",
            "showbackground": true,
            "ticks": "",
            "zerolinecolor": "#C8D4E3"
           },
           "zaxis": {
            "backgroundcolor": "rgb(17,17,17)",
            "gridcolor": "#506784",
            "gridwidth": 2,
            "linecolor": "#506784",
            "showbackground": true,
            "ticks": "",
            "zerolinecolor": "#C8D4E3"
           }
          },
          "shapedefaults": {
           "line": {
            "color": "#f2f5fa"
           }
          },
          "sliderdefaults": {
           "bgcolor": "#C8D4E3",
           "bordercolor": "rgb(17,17,17)",
           "borderwidth": 1,
           "tickwidth": 0
          },
          "ternary": {
           "aaxis": {
            "gridcolor": "#506784",
            "linecolor": "#506784",
            "ticks": ""
           },
           "baxis": {
            "gridcolor": "#506784",
            "linecolor": "#506784",
            "ticks": ""
           },
           "bgcolor": "rgb(17,17,17)",
           "caxis": {
            "gridcolor": "#506784",
            "linecolor": "#506784",
            "ticks": ""
           }
          },
          "title": {
           "x": 0.05
          },
          "updatemenudefaults": {
           "bgcolor": "#506784",
           "borderwidth": 0
          },
          "xaxis": {
           "automargin": true,
           "gridcolor": "#283442",
           "linecolor": "#506784",
           "ticks": "",
           "title": {
            "standoff": 15
           },
           "zerolinecolor": "#283442",
           "zerolinewidth": 2
          },
          "yaxis": {
           "automargin": true,
           "gridcolor": "#283442",
           "linecolor": "#506784",
           "ticks": "",
           "title": {
            "standoff": 15
           },
           "zerolinecolor": "#283442",
           "zerolinewidth": 2
          }
         }
        }
       }
      }
     },
     "metadata": {},
     "output_type": "display_data"
    }
   ],
   "source": [
    "fig = px.treemap(proveedornPorImportePago.head(10), path=[\"Proveedor\"], values=\"Monto\", hover_data=[\"Proveedor\",\"Monto\"], \n",
    "                  color=\"Proveedor\", \n",
    "                  template=\"plotly_dark\",\n",
    "                  labels={\"Proveedor\":\"Monto\"})\n",
    "fig.show()"
   ]
  },
  {
   "cell_type": "code",
   "execution_count": 48,
   "metadata": {},
   "outputs": [
    {
     "data": {
      "text/plain": [
       "<AxesSubplot: >"
      ]
     },
     "execution_count": 48,
     "metadata": {},
     "output_type": "execute_result"
    },
    {
     "data": {
      "image/png": "[encoded data removed]",
      "text/plain": [
       "<Figure size 1000x500 with 1 Axes>"
      ]
     },
     "metadata": {},
     "output_type": "display_data"
    }
   ],
   "source": [
    "proveedornPorImportePago.head(10).plot(kind='barh', figsize=(10, 5), color='#66bf99', width=0.85)"
   ]
  },
  {
   "cell_type": "code",
   "execution_count": null,
   "metadata": {},
   "outputs": [],
   "source": []
  }
 ],
 "metadata": {
  "kernelspec": {
   "display_name": "Python 3",
   "language": "python",
   "name": "python3"
  },
  "language_info": {
   "codemirror_mode": {
    "name": "ipython",
    "version": 3
   },
   "file_extension": ".py",
   "mimetype": "text/x-python",
   "name": "python",
   "nbconvert_exporter": "python",
   "pygments_lexer": "ipython3",
   "version": "3.10.6"
  }
 },
 "nbformat": 4,
 "nbformat_minor": 2
}
